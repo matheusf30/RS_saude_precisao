{
  "nbformat": 4,
  "nbformat_minor": 0,
  "metadata": {
    "colab": {
      "provenance": []
    },
    "kernelspec": {
      "name": "python3",
      "display_name": "Python 3"
    },
    "language_info": {
      "name": "python"
    }
  },
  "cells": [
    {
      "cell_type": "code",
      "execution_count": null,
      "metadata": {
        "id": "5iWrKyKSX3mi"
      },
      "outputs": [],
      "source": []
    },
    {
      "cell_type": "markdown",
      "source": [
        "This program is predict IRA for north of Lima that wrote on February 25, 2022 by Odon Sanchez"
      ],
      "metadata": {
        "id": "mtSVz8lqYQu0"
      }
    },
    {
      "cell_type": "code",
      "source": [
        "!pip install shap"
      ],
      "metadata": {
        "colab": {
          "base_uri": "https://localhost:8080/"
        },
        "id": "RS85xZss-bCE",
        "outputId": "6b9a9af3-195b-42d0-c916-8ebd3f3c8e81"
      },
      "execution_count": 1,
      "outputs": [
        {
          "output_type": "stream",
          "name": "stdout",
          "text": [
            "Requirement already satisfied: shap in /usr/local/lib/python3.11/dist-packages (0.46.0)\n",
            "Requirement already satisfied: numpy in /usr/local/lib/python3.11/dist-packages (from shap) (1.26.4)\n",
            "Requirement already satisfied: scipy in /usr/local/lib/python3.11/dist-packages (from shap) (1.13.1)\n",
            "Requirement already satisfied: scikit-learn in /usr/local/lib/python3.11/dist-packages (from shap) (1.6.1)\n",
            "Requirement already satisfied: pandas in /usr/local/lib/python3.11/dist-packages (from shap) (2.2.2)\n",
            "Requirement already satisfied: tqdm>=4.27.0 in /usr/local/lib/python3.11/dist-packages (from shap) (4.67.1)\n",
            "Requirement already satisfied: packaging>20.9 in /usr/local/lib/python3.11/dist-packages (from shap) (24.2)\n",
            "Requirement already satisfied: slicer==0.0.8 in /usr/local/lib/python3.11/dist-packages (from shap) (0.0.8)\n",
            "Requirement already satisfied: numba in /usr/local/lib/python3.11/dist-packages (from shap) (0.61.0)\n",
            "Requirement already satisfied: cloudpickle in /usr/local/lib/python3.11/dist-packages (from shap) (3.1.1)\n",
            "Requirement already satisfied: llvmlite<0.45,>=0.44.0dev0 in /usr/local/lib/python3.11/dist-packages (from numba->shap) (0.44.0)\n",
            "Requirement already satisfied: python-dateutil>=2.8.2 in /usr/local/lib/python3.11/dist-packages (from pandas->shap) (2.8.2)\n",
            "Requirement already satisfied: pytz>=2020.1 in /usr/local/lib/python3.11/dist-packages (from pandas->shap) (2025.1)\n",
            "Requirement already satisfied: tzdata>=2022.7 in /usr/local/lib/python3.11/dist-packages (from pandas->shap) (2025.1)\n",
            "Requirement already satisfied: joblib>=1.2.0 in /usr/local/lib/python3.11/dist-packages (from scikit-learn->shap) (1.4.2)\n",
            "Requirement already satisfied: threadpoolctl>=3.1.0 in /usr/local/lib/python3.11/dist-packages (from scikit-learn->shap) (3.5.0)\n",
            "Requirement already satisfied: six>=1.5 in /usr/local/lib/python3.11/dist-packages (from python-dateutil>=2.8.2->pandas->shap) (1.17.0)\n"
          ]
        }
      ]
    },
    {
      "cell_type": "code",
      "source": [
        "from google.colab import drive\n",
        "import os\n",
        "import sys\n",
        "drive.mount('/content/drive')"
      ],
      "metadata": {
        "colab": {
          "base_uri": "https://localhost:8080/"
        },
        "id": "05QJVkPWZbbY",
        "outputId": "55192bbd-001a-4274-81bd-7403f4178444"
      },
      "execution_count": 2,
      "outputs": [
        {
          "output_type": "stream",
          "name": "stdout",
          "text": [
            "Mounted at /content/drive\n"
          ]
        }
      ]
    },
    {
      "cell_type": "code",
      "source": [
        "import pandas as pd\n",
        "import numpy as np\n",
        "import matplotlib.pyplot as plt\n",
        "import seaborn as sns\n",
        "import shap\n",
        "from sklearn.model_selection import train_test_split\n",
        "from sklearn.ensemble import RandomForestRegressor\n",
        "from sklearn.metrics import mean_squared_error\n",
        "from sklearn.metrics import root_mean_squared_error\n",
        "from sklearn.metrics import mean_absolute_error\n",
        "from sklearn.metrics import r2_score"
      ],
      "metadata": {
        "id": "sbD7_U9dYocR"
      },
      "execution_count": 3,
      "outputs": []
    },
    {
      "cell_type": "code",
      "source": [
        "\n",
        "df = pd.read_csv('/content/drive/MyDrive/RF.Regresion/Base.datos.Lima.csv',  sep=';')\n",
        "print(df.head(10))"
      ],
      "metadata": {
        "colab": {
          "base_uri": "https://localhost:8080/"
        },
        "id": "0lxJYaYmZtAE",
        "outputId": "45fff791-ae02-482b-87c1-8c285a974ee4"
      },
      "execution_count": 4,
      "outputs": [
        {
          "output_type": "stream",
          "name": "stdout",
          "text": [
            "         date  IRA.Sul  IRA.Central  IRA.Este  IRA.Norte  CDM.PM25  SJL.PM25  \\\n",
            "0   1/01/2015      NaN          NaN       NaN        NaN      18.2      39.9   \n",
            "1   2/01/2015      NaN          NaN       NaN        NaN       6.8      16.8   \n",
            "2   3/01/2015      NaN          NaN       NaN        NaN      11.1      18.9   \n",
            "3   4/01/2015      NaN          NaN       NaN        NaN      13.8      21.3   \n",
            "4   5/01/2015   2046.0       1682.0    2696.0     2157.0      17.4      26.1   \n",
            "5   6/01/2015   2046.0       1682.0    2696.0     2157.0      17.1      27.5   \n",
            "6   7/01/2015   2046.0       1682.0    2696.0     2157.0       3.8      25.2   \n",
            "7   8/01/2015   2046.0       1682.0    2696.0     2157.0      10.9      23.8   \n",
            "8   9/01/2015   2046.0       1682.0    2696.0     2157.0      17.3      21.8   \n",
            "9  10/01/2015   2046.0       1682.0    2696.0     2157.0      22.5      21.9   \n",
            "\n",
            "   CDM.PM10  STA.PM10  VMT.PM10  ...  RHMAX  RHMIN  Vel  VelMin  VelMax   u  \\\n",
            "0      43.1      71.6     117.6  ...     88     76  NaN     NaN     NaN NaN   \n",
            "1      27.9      50.6     110.2  ...     91     63  NaN     NaN     NaN NaN   \n",
            "2      35.2      73.8     126.1  ...     90     68  NaN     NaN     NaN NaN   \n",
            "3      25.4      67.0     111.3  ...     90     68  NaN     NaN     NaN NaN   \n",
            "4      33.1      72.8     114.8  ...     86     69  NaN     NaN     NaN NaN   \n",
            "5      34.6      75.0     124.3  ...     89     72  NaN     NaN     NaN NaN   \n",
            "6      33.8      73.6     110.0  ...     85     70  NaN     NaN     NaN NaN   \n",
            "7      36.2      70.4     117.5  ...     87     69  NaN     NaN     NaN NaN   \n",
            "8      33.7      76.1     106.3  ...     90     72  NaN     NaN     NaN NaN   \n",
            "9      34.2      66.2     105.3  ...     88     68  NaN     NaN     NaN NaN   \n",
            "\n",
            "    v     HI  Min.HI  Max.HI  \n",
            "0 NaN  20.72    18.8    23.1  \n",
            "1 NaN  21.37    17.8    25.6  \n",
            "2 NaN  21.27    18.0    24.6  \n",
            "3 NaN  21.02    18.1    24.3  \n",
            "4 NaN  21.61    19.6    24.4  \n",
            "5 NaN  21.06    18.7    24.3  \n",
            "6 NaN  21.38    19.9    24.7  \n",
            "7 NaN  21.33    19.4    24.9  \n",
            "8 NaN  21.04    18.2    24.6  \n",
            "9 NaN  21.82    19.3    25.6  \n",
            "\n",
            "[10 rows x 25 columns]\n"
          ]
        }
      ]
    },
    {
      "cell_type": "code",
      "source": [
        "# Replace 'S/D' with 'NaN'\n",
        "df = df.replace(' ', 'NaN')\n",
        "print(df.head(5))"
      ],
      "metadata": {
        "colab": {
          "base_uri": "https://localhost:8080/"
        },
        "id": "0wHbAhQWaeay",
        "outputId": "136b9c60-191f-4e29-c77e-b0e62b3ee556"
      },
      "execution_count": 5,
      "outputs": [
        {
          "output_type": "stream",
          "name": "stdout",
          "text": [
            "        date  IRA.Sul  IRA.Central  IRA.Este  IRA.Norte  CDM.PM25  SJL.PM25  \\\n",
            "0  1/01/2015      NaN          NaN       NaN        NaN      18.2      39.9   \n",
            "1  2/01/2015      NaN          NaN       NaN        NaN       6.8      16.8   \n",
            "2  3/01/2015      NaN          NaN       NaN        NaN      11.1      18.9   \n",
            "3  4/01/2015      NaN          NaN       NaN        NaN      13.8      21.3   \n",
            "4  5/01/2015   2046.0       1682.0    2696.0     2157.0      17.4      26.1   \n",
            "\n",
            "   CDM.PM10  STA.PM10  VMT.PM10  ...  RHMAX  RHMIN  Vel  VelMin  VelMax   u  \\\n",
            "0      43.1      71.6     117.6  ...     88     76  NaN     NaN     NaN NaN   \n",
            "1      27.9      50.6     110.2  ...     91     63  NaN     NaN     NaN NaN   \n",
            "2      35.2      73.8     126.1  ...     90     68  NaN     NaN     NaN NaN   \n",
            "3      25.4      67.0     111.3  ...     90     68  NaN     NaN     NaN NaN   \n",
            "4      33.1      72.8     114.8  ...     86     69  NaN     NaN     NaN NaN   \n",
            "\n",
            "    v     HI  Min.HI  Max.HI  \n",
            "0 NaN  20.72    18.8    23.1  \n",
            "1 NaN  21.37    17.8    25.6  \n",
            "2 NaN  21.27    18.0    24.6  \n",
            "3 NaN  21.02    18.1    24.3  \n",
            "4 NaN  21.61    19.6    24.4  \n",
            "\n",
            "[5 rows x 25 columns]\n"
          ]
        }
      ]
    },
    {
      "cell_type": "code",
      "source": [
        "df[\"date\"] = pd.to_datetime(df[\"date\"], format=\"%d/%m/%Y\")\n",
        "\n",
        "print(df.head(10))"
      ],
      "metadata": {
        "colab": {
          "base_uri": "https://localhost:8080/"
        },
        "id": "3jrTNUUsazqn",
        "outputId": "13706fc4-05b8-4fa0-f3f1-53fe4f81216d"
      },
      "execution_count": 6,
      "outputs": [
        {
          "output_type": "stream",
          "name": "stdout",
          "text": [
            "        date  IRA.Sul  IRA.Central  IRA.Este  IRA.Norte  CDM.PM25  SJL.PM25  \\\n",
            "0 2015-01-01      NaN          NaN       NaN        NaN      18.2      39.9   \n",
            "1 2015-01-02      NaN          NaN       NaN        NaN       6.8      16.8   \n",
            "2 2015-01-03      NaN          NaN       NaN        NaN      11.1      18.9   \n",
            "3 2015-01-04      NaN          NaN       NaN        NaN      13.8      21.3   \n",
            "4 2015-01-05   2046.0       1682.0    2696.0     2157.0      17.4      26.1   \n",
            "5 2015-01-06   2046.0       1682.0    2696.0     2157.0      17.1      27.5   \n",
            "6 2015-01-07   2046.0       1682.0    2696.0     2157.0       3.8      25.2   \n",
            "7 2015-01-08   2046.0       1682.0    2696.0     2157.0      10.9      23.8   \n",
            "8 2015-01-09   2046.0       1682.0    2696.0     2157.0      17.3      21.8   \n",
            "9 2015-01-10   2046.0       1682.0    2696.0     2157.0      22.5      21.9   \n",
            "\n",
            "   CDM.PM10  STA.PM10  VMT.PM10  ...  RHMAX  RHMIN  Vel  VelMin  VelMax   u  \\\n",
            "0      43.1      71.6     117.6  ...     88     76  NaN     NaN     NaN NaN   \n",
            "1      27.9      50.6     110.2  ...     91     63  NaN     NaN     NaN NaN   \n",
            "2      35.2      73.8     126.1  ...     90     68  NaN     NaN     NaN NaN   \n",
            "3      25.4      67.0     111.3  ...     90     68  NaN     NaN     NaN NaN   \n",
            "4      33.1      72.8     114.8  ...     86     69  NaN     NaN     NaN NaN   \n",
            "5      34.6      75.0     124.3  ...     89     72  NaN     NaN     NaN NaN   \n",
            "6      33.8      73.6     110.0  ...     85     70  NaN     NaN     NaN NaN   \n",
            "7      36.2      70.4     117.5  ...     87     69  NaN     NaN     NaN NaN   \n",
            "8      33.7      76.1     106.3  ...     90     72  NaN     NaN     NaN NaN   \n",
            "9      34.2      66.2     105.3  ...     88     68  NaN     NaN     NaN NaN   \n",
            "\n",
            "    v     HI  Min.HI  Max.HI  \n",
            "0 NaN  20.72    18.8    23.1  \n",
            "1 NaN  21.37    17.8    25.6  \n",
            "2 NaN  21.27    18.0    24.6  \n",
            "3 NaN  21.02    18.1    24.3  \n",
            "4 NaN  21.61    19.6    24.4  \n",
            "5 NaN  21.06    18.7    24.3  \n",
            "6 NaN  21.38    19.9    24.7  \n",
            "7 NaN  21.33    19.4    24.9  \n",
            "8 NaN  21.04    18.2    24.6  \n",
            "9 NaN  21.82    19.3    25.6  \n",
            "\n",
            "[10 rows x 25 columns]\n"
          ]
        }
      ]
    },
    {
      "cell_type": "code",
      "source": [
        "df['IRA.Sul'] = pd.to_numeric(df['IRA.Sul'], errors='coerce')\n",
        "df['IRA.Central'] = pd.to_numeric(df['IRA.Central'], errors='coerce')\n",
        "df['IRA.Norte'] = pd.to_numeric(df['IRA.Norte'], errors='coerce')\n",
        "df['IRA.Este'] = pd.to_numeric(df['IRA.Este'], errors='coerce')\n",
        "df['CDM.PM25'] = pd.to_numeric(df['CDM.PM25'], errors='coerce')\n",
        "df['SJL.PM25'] = pd.to_numeric(df['SJL.PM25'], errors='coerce')\n",
        "df['CDM.PM10'] = pd.to_numeric(df['CDM.PM10'], errors='coerce')\n",
        "df['STA.PM10'] = pd.to_numeric(df['STA.PM10'], errors='coerce')\n",
        "df['VMT.PM10'] = pd.to_numeric(df['VMT.PM10'], errors='coerce')\n",
        "df['CRB.PM10'] = pd.to_numeric(df['CRB.PM10'], errors='coerce')\n",
        "df['TEM'] = pd.to_numeric(df['TEM'], errors='coerce')\n",
        "df['TMAX'] = pd.to_numeric(df['TMAX'], errors='coerce')\n",
        "df['TMIN'] = pd.to_numeric(df['TMIN'], errors='coerce')\n",
        "df['RH'] = pd.to_numeric(df['RH'], errors='coerce')\n",
        "df['RHMAX'] = pd.to_numeric(df['RHMAX'], errors='coerce')\n",
        "df['RHMIN'] = pd.to_numeric(df['RHMIN'], errors='coerce')\n",
        "df['Vel'] = pd.to_numeric(df['Vel'], errors='coerce')\n",
        "df['VelMin'] = pd.to_numeric(df['VelMin'], errors='coerce')\n",
        "df['VelMax'] = pd.to_numeric(df['VelMax'], errors='coerce')\n",
        "df['u'] = pd.to_numeric(df['u'], errors='coerce')\n",
        "df['v'] = pd.to_numeric(df['v'], errors='coerce')\n",
        "df['HI'] = pd.to_numeric(df['HI'], errors='coerce')\n",
        "df['Min.HI'] = pd.to_numeric(df['Min.HI'], errors='coerce')\n",
        "df['Max.HI'] = pd.to_numeric(df['Max.HI'], errors='coerce')"
      ],
      "metadata": {
        "id": "OnmW_xcrbLq4"
      },
      "execution_count": 7,
      "outputs": []
    },
    {
      "cell_type": "code",
      "source": [
        "print(df.dtypes)"
      ],
      "metadata": {
        "colab": {
          "base_uri": "https://localhost:8080/"
        },
        "id": "63ADxcEubmqr",
        "outputId": "40d0fd99-80b0-4874-8afe-6a96afffd24f"
      },
      "execution_count": 8,
      "outputs": [
        {
          "output_type": "stream",
          "name": "stdout",
          "text": [
            "date           datetime64[ns]\n",
            "IRA.Sul               float64\n",
            "IRA.Central           float64\n",
            "IRA.Este              float64\n",
            "IRA.Norte             float64\n",
            "CDM.PM25              float64\n",
            "SJL.PM25              float64\n",
            "CDM.PM10              float64\n",
            "STA.PM10              float64\n",
            "VMT.PM10              float64\n",
            "CRB.PM10              float64\n",
            "TEM                   float64\n",
            "TMAX                  float64\n",
            "TMIN                  float64\n",
            "RH                      int64\n",
            "RHMAX                   int64\n",
            "RHMIN                   int64\n",
            "Vel                   float64\n",
            "VelMin                float64\n",
            "VelMax                float64\n",
            "u                     float64\n",
            "v                     float64\n",
            "HI                    float64\n",
            "Min.HI                float64\n",
            "Max.HI                float64\n",
            "dtype: object\n"
          ]
        }
      ]
    },
    {
      "cell_type": "code",
      "source": [
        "# Drop rows with NaN values\n",
        "df1 = df.dropna()\n",
        "print(df1.head(10))"
      ],
      "metadata": {
        "colab": {
          "base_uri": "https://localhost:8080/"
        },
        "id": "dojTjyDes3Li",
        "outputId": "642e19e2-0282-477e-f128-44ddc472d2f5"
      },
      "execution_count": 9,
      "outputs": [
        {
          "output_type": "stream",
          "name": "stdout",
          "text": [
            "          date  IRA.Sul  IRA.Central  IRA.Este  IRA.Norte  CDM.PM25  SJL.PM25  \\\n",
            "184 2015-07-04   2662.0       2134.0    3307.0     2880.0      18.7      33.0   \n",
            "185 2015-07-05   2662.0       2134.0    3307.0     2880.0      16.4      21.8   \n",
            "186 2015-07-06   2461.0       2263.0    3446.0     2732.0      11.6      20.9   \n",
            "187 2015-07-07   2461.0       2263.0    3446.0     2732.0      12.2      20.0   \n",
            "188 2015-07-08   2461.0       2263.0    3446.0     2732.0      16.4      26.2   \n",
            "189 2015-07-09   2461.0       2263.0    3446.0     2732.0      21.4      37.1   \n",
            "190 2015-07-10   2461.0       2263.0    3446.0     2732.0      23.3      40.4   \n",
            "191 2015-07-11   2461.0       2263.0    3446.0     2732.0      19.3      36.8   \n",
            "192 2015-07-12   2461.0       2263.0    3446.0     2732.0      19.0      30.0   \n",
            "193 2015-07-13   2526.0       2069.0    3230.0     2678.0      17.3      29.4   \n",
            "\n",
            "     CDM.PM10  STA.PM10  VMT.PM10  ...  RHMAX  RHMIN   Vel  VelMin  VelMax  \\\n",
            "184      43.8      48.0      62.5  ...     95     78  0.99     0.4    1.70   \n",
            "185      41.0      39.7      55.1  ...     86     76  1.04     0.1    2.40   \n",
            "186      37.7      33.6      43.1  ...     96     81  0.87     0.2    1.90   \n",
            "187      52.0      33.1      60.8  ...     90     80  0.57     0.1    1.30   \n",
            "188      53.7      45.0      65.9  ...     86     68  0.57     0.1    1.00   \n",
            "189      57.5      59.0      48.5  ...     81     65  0.74     0.1    1.50   \n",
            "190      60.7      61.5      37.6  ...     81     70  1.35     0.1    2.90   \n",
            "191      52.2      59.9      48.5  ...     85     70  1.36     0.3    2.83   \n",
            "192      44.2      46.3      56.9  ...     90     70  1.37     0.5    2.77   \n",
            "193      43.2      46.3      57.5  ...     94     70  1.38     0.7    2.70   \n",
            "\n",
            "        u     v     HI  Min.HI  Max.HI  \n",
            "184  0.71  0.61  19.09    15.7    21.7  \n",
            "185  0.92  0.22  20.34    19.3    22.5  \n",
            "186  0.84  0.20  18.18    15.2    20.9  \n",
            "187  0.49  0.23  19.71    17.9    21.1  \n",
            "188  0.51  0.22  21.26    19.3    23.5  \n",
            "189  0.67  0.11  22.25    21.1    23.9  \n",
            "190  1.06  0.51  21.90    21.1    23.2  \n",
            "191  1.10  0.56  21.23    19.5    23.2  \n",
            "192  1.13  0.60  20.57    17.9    23.2  \n",
            "193  1.17  0.65  19.90    16.3    23.2  \n",
            "\n",
            "[10 rows x 25 columns]\n"
          ]
        }
      ]
    },
    {
      "cell_type": "code",
      "source": [],
      "metadata": {
        "id": "iaXd0qlzir_W"
      },
      "execution_count": null,
      "outputs": []
    },
    {
      "cell_type": "code",
      "source": [
        "df1['Tamplitude'] = df1['TMAX'] - df1['TMIN']\n",
        "print(df1.head(5))\n"
      ],
      "metadata": {
        "colab": {
          "base_uri": "https://localhost:8080/"
        },
        "id": "NGZOE0zYJ39F",
        "outputId": "1159a400-705b-4c68-894f-729ee2d68581"
      },
      "execution_count": 10,
      "outputs": [
        {
          "output_type": "stream",
          "name": "stdout",
          "text": [
            "          date  IRA.Sul  IRA.Central  IRA.Este  IRA.Norte  CDM.PM25  SJL.PM25  \\\n",
            "184 2015-07-04   2662.0       2134.0    3307.0     2880.0      18.7      33.0   \n",
            "185 2015-07-05   2662.0       2134.0    3307.0     2880.0      16.4      21.8   \n",
            "186 2015-07-06   2461.0       2263.0    3446.0     2732.0      11.6      20.9   \n",
            "187 2015-07-07   2461.0       2263.0    3446.0     2732.0      12.2      20.0   \n",
            "188 2015-07-08   2461.0       2263.0    3446.0     2732.0      16.4      26.2   \n",
            "\n",
            "     CDM.PM10  STA.PM10  VMT.PM10  ...  RHMIN   Vel  VelMin  VelMax     u  \\\n",
            "184      43.8      48.0      62.5  ...     78  0.99     0.4     1.7  0.71   \n",
            "185      41.0      39.7      55.1  ...     76  1.04     0.1     2.4  0.92   \n",
            "186      37.7      33.6      43.1  ...     81  0.87     0.2     1.9  0.84   \n",
            "187      52.0      33.1      60.8  ...     80  0.57     0.1     1.3  0.49   \n",
            "188      53.7      45.0      65.9  ...     68  0.57     0.1     1.0  0.51   \n",
            "\n",
            "        v     HI  Min.HI  Max.HI  Tamplitude  \n",
            "184  0.61  19.09    15.7    21.7         2.7  \n",
            "185  0.22  20.34    19.3    22.5         3.1  \n",
            "186  0.20  18.18    15.2    20.9         2.3  \n",
            "187  0.23  19.71    17.9    21.1         1.6  \n",
            "188  0.22  21.26    19.3    23.5         2.2  \n",
            "\n",
            "[5 rows x 26 columns]\n"
          ]
        },
        {
          "output_type": "stream",
          "name": "stderr",
          "text": [
            "<ipython-input-10-afc93d298f22>:1: SettingWithCopyWarning: \n",
            "A value is trying to be set on a copy of a slice from a DataFrame.\n",
            "Try using .loc[row_indexer,col_indexer] = value instead\n",
            "\n",
            "See the caveats in the documentation: https://pandas.pydata.org/pandas-docs/stable/user_guide/indexing.html#returning-a-view-versus-a-copy\n",
            "  df1['Tamplitude'] = df1['TMAX'] - df1['TMIN']\n"
          ]
        }
      ]
    },
    {
      "cell_type": "code",
      "source": [
        "# Extract year, month, and day\n",
        "df1['Year'] = df1['date'].dt.year\n",
        "df1['Month'] = df1['date'].dt.month\n",
        "df1['Day'] = df1['date'].dt.day\n",
        "print(df1.head(10))"
      ],
      "metadata": {
        "colab": {
          "base_uri": "https://localhost:8080/"
        },
        "id": "HxLJByOi44nZ",
        "outputId": "a4f8f4c0-ef85-490c-9204-6b2fe503541d"
      },
      "execution_count": 11,
      "outputs": [
        {
          "output_type": "stream",
          "name": "stdout",
          "text": [
            "          date  IRA.Sul  IRA.Central  IRA.Este  IRA.Norte  CDM.PM25  SJL.PM25  \\\n",
            "184 2015-07-04   2662.0       2134.0    3307.0     2880.0      18.7      33.0   \n",
            "185 2015-07-05   2662.0       2134.0    3307.0     2880.0      16.4      21.8   \n",
            "186 2015-07-06   2461.0       2263.0    3446.0     2732.0      11.6      20.9   \n",
            "187 2015-07-07   2461.0       2263.0    3446.0     2732.0      12.2      20.0   \n",
            "188 2015-07-08   2461.0       2263.0    3446.0     2732.0      16.4      26.2   \n",
            "189 2015-07-09   2461.0       2263.0    3446.0     2732.0      21.4      37.1   \n",
            "190 2015-07-10   2461.0       2263.0    3446.0     2732.0      23.3      40.4   \n",
            "191 2015-07-11   2461.0       2263.0    3446.0     2732.0      19.3      36.8   \n",
            "192 2015-07-12   2461.0       2263.0    3446.0     2732.0      19.0      30.0   \n",
            "193 2015-07-13   2526.0       2069.0    3230.0     2678.0      17.3      29.4   \n",
            "\n",
            "     CDM.PM10  STA.PM10  VMT.PM10  ...  VelMax     u     v     HI  Min.HI  \\\n",
            "184      43.8      48.0      62.5  ...    1.70  0.71  0.61  19.09    15.7   \n",
            "185      41.0      39.7      55.1  ...    2.40  0.92  0.22  20.34    19.3   \n",
            "186      37.7      33.6      43.1  ...    1.90  0.84  0.20  18.18    15.2   \n",
            "187      52.0      33.1      60.8  ...    1.30  0.49  0.23  19.71    17.9   \n",
            "188      53.7      45.0      65.9  ...    1.00  0.51  0.22  21.26    19.3   \n",
            "189      57.5      59.0      48.5  ...    1.50  0.67  0.11  22.25    21.1   \n",
            "190      60.7      61.5      37.6  ...    2.90  1.06  0.51  21.90    21.1   \n",
            "191      52.2      59.9      48.5  ...    2.83  1.10  0.56  21.23    19.5   \n",
            "192      44.2      46.3      56.9  ...    2.77  1.13  0.60  20.57    17.9   \n",
            "193      43.2      46.3      57.5  ...    2.70  1.17  0.65  19.90    16.3   \n",
            "\n",
            "     Max.HI  Tamplitude  Year  Month  Day  \n",
            "184    21.7         2.7  2015      7    4  \n",
            "185    22.5         3.1  2015      7    5  \n",
            "186    20.9         2.3  2015      7    6  \n",
            "187    21.1         1.6  2015      7    7  \n",
            "188    23.5         2.2  2015      7    8  \n",
            "189    23.9         3.3  2015      7    9  \n",
            "190    23.2         2.7  2015      7   10  \n",
            "191    23.2         2.9  2015      7   11  \n",
            "192    23.2         3.0  2015      7   12  \n",
            "193    23.2         3.2  2015      7   13  \n",
            "\n",
            "[10 rows x 29 columns]\n"
          ]
        },
        {
          "output_type": "stream",
          "name": "stderr",
          "text": [
            "<ipython-input-11-fff57caac2e7>:2: SettingWithCopyWarning: \n",
            "A value is trying to be set on a copy of a slice from a DataFrame.\n",
            "Try using .loc[row_indexer,col_indexer] = value instead\n",
            "\n",
            "See the caveats in the documentation: https://pandas.pydata.org/pandas-docs/stable/user_guide/indexing.html#returning-a-view-versus-a-copy\n",
            "  df1['Year'] = df1['date'].dt.year\n",
            "<ipython-input-11-fff57caac2e7>:3: SettingWithCopyWarning: \n",
            "A value is trying to be set on a copy of a slice from a DataFrame.\n",
            "Try using .loc[row_indexer,col_indexer] = value instead\n",
            "\n",
            "See the caveats in the documentation: https://pandas.pydata.org/pandas-docs/stable/user_guide/indexing.html#returning-a-view-versus-a-copy\n",
            "  df1['Month'] = df1['date'].dt.month\n",
            "<ipython-input-11-fff57caac2e7>:4: SettingWithCopyWarning: \n",
            "A value is trying to be set on a copy of a slice from a DataFrame.\n",
            "Try using .loc[row_indexer,col_indexer] = value instead\n",
            "\n",
            "See the caveats in the documentation: https://pandas.pydata.org/pandas-docs/stable/user_guide/indexing.html#returning-a-view-versus-a-copy\n",
            "  df1['Day'] = df1['date'].dt.day\n"
          ]
        }
      ]
    },
    {
      "cell_type": "code",
      "source": [
        "df2 = df1.iloc[:, 5:26]\n",
        "IRA = df1.iloc[:, 1:5]\n",
        "date1 = df1.iloc[:, 0]\n",
        "time1 = df1.iloc[:, 26:29]\n",
        "print(df2.head(10))\n",
        "print(IRA.head(10))\n",
        "print(date1.head(10))\n",
        "print(time1.head(10))"
      ],
      "metadata": {
        "colab": {
          "base_uri": "https://localhost:8080/"
        },
        "id": "IEr-nSa4wZyu",
        "outputId": "1341b3aa-767b-4c91-deed-998ae27577e3"
      },
      "execution_count": 12,
      "outputs": [
        {
          "output_type": "stream",
          "name": "stdout",
          "text": [
            "     CDM.PM25  SJL.PM25  CDM.PM10  STA.PM10  VMT.PM10  CRB.PM10   TEM  TMAX  \\\n",
            "184      18.7      33.0      43.8      48.0      62.5      74.5  18.7  20.4   \n",
            "185      16.4      21.8      41.0      39.7      55.1      67.8  19.1  21.4   \n",
            "186      11.6      20.9      37.7      33.6      43.1      45.9  18.5  20.0   \n",
            "187      12.2      20.0      52.0      33.1      60.8      58.3  18.0  18.7   \n",
            "188      16.4      26.2      53.7      45.0      65.9      69.6  18.5  20.1   \n",
            "189      21.4      37.1      57.5      59.0      48.5      80.7  18.4  20.6   \n",
            "190      23.3      40.4      60.7      61.5      37.6      92.9  18.3  20.2   \n",
            "191      19.3      36.8      52.2      59.9      48.5      90.8  18.2  20.0   \n",
            "192      19.0      30.0      44.2      46.3      56.9      87.5  18.0  19.8   \n",
            "193      17.3      29.4      43.2      46.3      57.5      69.3  17.9  19.6   \n",
            "\n",
            "     TMIN  RH  ...  RHMIN   Vel  VelMin  VelMax     u     v     HI  Min.HI  \\\n",
            "184  17.7  86  ...     78  0.99     0.4    1.70  0.71  0.61  19.09    15.7   \n",
            "185  18.3  83  ...     76  1.04     0.1    2.40  0.92  0.22  20.34    19.3   \n",
            "186  17.7  89  ...     81  0.87     0.2    1.90  0.84  0.20  18.18    15.2   \n",
            "187  17.1  85  ...     80  0.57     0.1    1.30  0.49  0.23  19.71    17.9   \n",
            "188  17.9  79  ...     68  0.57     0.1    1.00  0.51  0.22  21.26    19.3   \n",
            "189  17.3  76  ...     65  0.74     0.1    1.50  0.67  0.11  22.25    21.1   \n",
            "190  17.5  77  ...     70  1.35     0.1    2.90  1.06  0.51  21.90    21.1   \n",
            "191  17.1  79  ...     70  1.36     0.3    2.83  1.10  0.56  21.23    19.5   \n",
            "192  16.8  82  ...     70  1.37     0.5    2.77  1.13  0.60  20.57    17.9   \n",
            "193  16.4  84  ...     70  1.38     0.7    2.70  1.17  0.65  19.90    16.3   \n",
            "\n",
            "     Max.HI  Tamplitude  \n",
            "184    21.7         2.7  \n",
            "185    22.5         3.1  \n",
            "186    20.9         2.3  \n",
            "187    21.1         1.6  \n",
            "188    23.5         2.2  \n",
            "189    23.9         3.3  \n",
            "190    23.2         2.7  \n",
            "191    23.2         2.9  \n",
            "192    23.2         3.0  \n",
            "193    23.2         3.2  \n",
            "\n",
            "[10 rows x 21 columns]\n",
            "     IRA.Sul  IRA.Central  IRA.Este  IRA.Norte\n",
            "184   2662.0       2134.0    3307.0     2880.0\n",
            "185   2662.0       2134.0    3307.0     2880.0\n",
            "186   2461.0       2263.0    3446.0     2732.0\n",
            "187   2461.0       2263.0    3446.0     2732.0\n",
            "188   2461.0       2263.0    3446.0     2732.0\n",
            "189   2461.0       2263.0    3446.0     2732.0\n",
            "190   2461.0       2263.0    3446.0     2732.0\n",
            "191   2461.0       2263.0    3446.0     2732.0\n",
            "192   2461.0       2263.0    3446.0     2732.0\n",
            "193   2526.0       2069.0    3230.0     2678.0\n",
            "184   2015-07-04\n",
            "185   2015-07-05\n",
            "186   2015-07-06\n",
            "187   2015-07-07\n",
            "188   2015-07-08\n",
            "189   2015-07-09\n",
            "190   2015-07-10\n",
            "191   2015-07-11\n",
            "192   2015-07-12\n",
            "193   2015-07-13\n",
            "Name: date, dtype: datetime64[ns]\n",
            "     Year  Month  Day\n",
            "184  2015      7    4\n",
            "185  2015      7    5\n",
            "186  2015      7    6\n",
            "187  2015      7    7\n",
            "188  2015      7    8\n",
            "189  2015      7    9\n",
            "190  2015      7   10\n",
            "191  2015      7   11\n",
            "192  2015      7   12\n",
            "193  2015      7   13\n"
          ]
        }
      ]
    },
    {
      "cell_type": "code",
      "source": [
        "IRA['IRAmetro'] = IRA['IRA.Sul'] + IRA['IRA.Central'] + IRA['IRA.Este'] + IRA['IRA.Norte']\n",
        "print(IRA.head(10))"
      ],
      "metadata": {
        "colab": {
          "base_uri": "https://localhost:8080/"
        },
        "id": "eLzvx4T27dir",
        "outputId": "64a4b6eb-4fd8-4e2d-c648-e25a163924ed"
      },
      "execution_count": 13,
      "outputs": [
        {
          "output_type": "stream",
          "name": "stdout",
          "text": [
            "     IRA.Sul  IRA.Central  IRA.Este  IRA.Norte  IRAmetro\n",
            "184   2662.0       2134.0    3307.0     2880.0   10983.0\n",
            "185   2662.0       2134.0    3307.0     2880.0   10983.0\n",
            "186   2461.0       2263.0    3446.0     2732.0   10902.0\n",
            "187   2461.0       2263.0    3446.0     2732.0   10902.0\n",
            "188   2461.0       2263.0    3446.0     2732.0   10902.0\n",
            "189   2461.0       2263.0    3446.0     2732.0   10902.0\n",
            "190   2461.0       2263.0    3446.0     2732.0   10902.0\n",
            "191   2461.0       2263.0    3446.0     2732.0   10902.0\n",
            "192   2461.0       2263.0    3446.0     2732.0   10902.0\n",
            "193   2526.0       2069.0    3230.0     2678.0   10503.0\n"
          ]
        }
      ]
    },
    {
      "cell_type": "code",
      "source": [
        "for col in df2.columns:\n",
        "    df2[f'{col}_lag1'] = df2[col].shift(1)\n",
        "    df2[f'{col}_lag2'] = df2[col].shift(2)\n",
        "    df2[f'{col}_lag3'] = df2[col].shift(3)\n",
        "    df2[f'{col}_lag4'] = df2[col].shift(4)\n",
        "    df2[f'{col}_lag5'] = df2[col].shift(5)\n",
        "    df2[f'{col}_lag6'] = df2[col].shift(6)\n",
        "    df2[f'{col}_lag7'] = df2[col].shift(7)\n",
        "\n",
        "\n",
        "print(df2.head(10))\n"
      ],
      "metadata": {
        "colab": {
          "base_uri": "https://localhost:8080/"
        },
        "id": "49sGYYtYxYvB",
        "outputId": "ff66f1e0-810c-4a2e-b80a-fac8261b5b0c"
      },
      "execution_count": 14,
      "outputs": [
        {
          "output_type": "stream",
          "name": "stdout",
          "text": [
            "     CDM.PM25  SJL.PM25  CDM.PM10  STA.PM10  VMT.PM10  CRB.PM10   TEM  TMAX  \\\n",
            "184      18.7      33.0      43.8      48.0      62.5      74.5  18.7  20.4   \n",
            "185      16.4      21.8      41.0      39.7      55.1      67.8  19.1  21.4   \n",
            "186      11.6      20.9      37.7      33.6      43.1      45.9  18.5  20.0   \n",
            "187      12.2      20.0      52.0      33.1      60.8      58.3  18.0  18.7   \n",
            "188      16.4      26.2      53.7      45.0      65.9      69.6  18.5  20.1   \n",
            "189      21.4      37.1      57.5      59.0      48.5      80.7  18.4  20.6   \n",
            "190      23.3      40.4      60.7      61.5      37.6      92.9  18.3  20.2   \n",
            "191      19.3      36.8      52.2      59.9      48.5      90.8  18.2  20.0   \n",
            "192      19.0      30.0      44.2      46.3      56.9      87.5  18.0  19.8   \n",
            "193      17.3      29.4      43.2      46.3      57.5      69.3  17.9  19.6   \n",
            "\n",
            "     TMIN  RH  ...  Max.HI_lag5  Max.HI_lag6  Max.HI_lag7  Tamplitude_lag1  \\\n",
            "184  17.7  86  ...          NaN          NaN          NaN              NaN   \n",
            "185  18.3  83  ...          NaN          NaN          NaN              2.7   \n",
            "186  17.7  89  ...          NaN          NaN          NaN              3.1   \n",
            "187  17.1  85  ...          NaN          NaN          NaN              2.3   \n",
            "188  17.9  79  ...          NaN          NaN          NaN              1.6   \n",
            "189  17.3  76  ...         21.7          NaN          NaN              2.2   \n",
            "190  17.5  77  ...         22.5         21.7          NaN              3.3   \n",
            "191  17.1  79  ...         20.9         22.5         21.7              2.7   \n",
            "192  16.8  82  ...         21.1         20.9         22.5              2.9   \n",
            "193  16.4  84  ...         23.5         21.1         20.9              3.0   \n",
            "\n",
            "     Tamplitude_lag2  Tamplitude_lag3  Tamplitude_lag4  Tamplitude_lag5  \\\n",
            "184              NaN              NaN              NaN              NaN   \n",
            "185              NaN              NaN              NaN              NaN   \n",
            "186              2.7              NaN              NaN              NaN   \n",
            "187              3.1              2.7              NaN              NaN   \n",
            "188              2.3              3.1              2.7              NaN   \n",
            "189              1.6              2.3              3.1              2.7   \n",
            "190              2.2              1.6              2.3              3.1   \n",
            "191              3.3              2.2              1.6              2.3   \n",
            "192              2.7              3.3              2.2              1.6   \n",
            "193              2.9              2.7              3.3              2.2   \n",
            "\n",
            "     Tamplitude_lag6  Tamplitude_lag7  \n",
            "184              NaN              NaN  \n",
            "185              NaN              NaN  \n",
            "186              NaN              NaN  \n",
            "187              NaN              NaN  \n",
            "188              NaN              NaN  \n",
            "189              NaN              NaN  \n",
            "190              2.7              NaN  \n",
            "191              3.1              2.7  \n",
            "192              2.3              3.1  \n",
            "193              1.6              2.3  \n",
            "\n",
            "[10 rows x 168 columns]\n"
          ]
        },
        {
          "output_type": "stream",
          "name": "stderr",
          "text": [
            "<ipython-input-14-97897a035be2>:4: PerformanceWarning: DataFrame is highly fragmented.  This is usually the result of calling `frame.insert` many times, which has poor performance.  Consider joining all columns at once using pd.concat(axis=1) instead. To get a de-fragmented frame, use `newframe = frame.copy()`\n",
            "  df2[f'{col}_lag3'] = df2[col].shift(3)\n",
            "<ipython-input-14-97897a035be2>:5: PerformanceWarning: DataFrame is highly fragmented.  This is usually the result of calling `frame.insert` many times, which has poor performance.  Consider joining all columns at once using pd.concat(axis=1) instead. To get a de-fragmented frame, use `newframe = frame.copy()`\n",
            "  df2[f'{col}_lag4'] = df2[col].shift(4)\n",
            "<ipython-input-14-97897a035be2>:6: PerformanceWarning: DataFrame is highly fragmented.  This is usually the result of calling `frame.insert` many times, which has poor performance.  Consider joining all columns at once using pd.concat(axis=1) instead. To get a de-fragmented frame, use `newframe = frame.copy()`\n",
            "  df2[f'{col}_lag5'] = df2[col].shift(5)\n",
            "<ipython-input-14-97897a035be2>:7: PerformanceWarning: DataFrame is highly fragmented.  This is usually the result of calling `frame.insert` many times, which has poor performance.  Consider joining all columns at once using pd.concat(axis=1) instead. To get a de-fragmented frame, use `newframe = frame.copy()`\n",
            "  df2[f'{col}_lag6'] = df2[col].shift(6)\n",
            "<ipython-input-14-97897a035be2>:8: PerformanceWarning: DataFrame is highly fragmented.  This is usually the result of calling `frame.insert` many times, which has poor performance.  Consider joining all columns at once using pd.concat(axis=1) instead. To get a de-fragmented frame, use `newframe = frame.copy()`\n",
            "  df2[f'{col}_lag7'] = df2[col].shift(7)\n",
            "<ipython-input-14-97897a035be2>:2: PerformanceWarning: DataFrame is highly fragmented.  This is usually the result of calling `frame.insert` many times, which has poor performance.  Consider joining all columns at once using pd.concat(axis=1) instead. To get a de-fragmented frame, use `newframe = frame.copy()`\n",
            "  df2[f'{col}_lag1'] = df2[col].shift(1)\n",
            "<ipython-input-14-97897a035be2>:3: PerformanceWarning: DataFrame is highly fragmented.  This is usually the result of calling `frame.insert` many times, which has poor performance.  Consider joining all columns at once using pd.concat(axis=1) instead. To get a de-fragmented frame, use `newframe = frame.copy()`\n",
            "  df2[f'{col}_lag2'] = df2[col].shift(2)\n",
            "<ipython-input-14-97897a035be2>:4: PerformanceWarning: DataFrame is highly fragmented.  This is usually the result of calling `frame.insert` many times, which has poor performance.  Consider joining all columns at once using pd.concat(axis=1) instead. To get a de-fragmented frame, use `newframe = frame.copy()`\n",
            "  df2[f'{col}_lag3'] = df2[col].shift(3)\n",
            "<ipython-input-14-97897a035be2>:5: PerformanceWarning: DataFrame is highly fragmented.  This is usually the result of calling `frame.insert` many times, which has poor performance.  Consider joining all columns at once using pd.concat(axis=1) instead. To get a de-fragmented frame, use `newframe = frame.copy()`\n",
            "  df2[f'{col}_lag4'] = df2[col].shift(4)\n",
            "<ipython-input-14-97897a035be2>:6: PerformanceWarning: DataFrame is highly fragmented.  This is usually the result of calling `frame.insert` many times, which has poor performance.  Consider joining all columns at once using pd.concat(axis=1) instead. To get a de-fragmented frame, use `newframe = frame.copy()`\n",
            "  df2[f'{col}_lag5'] = df2[col].shift(5)\n",
            "<ipython-input-14-97897a035be2>:7: PerformanceWarning: DataFrame is highly fragmented.  This is usually the result of calling `frame.insert` many times, which has poor performance.  Consider joining all columns at once using pd.concat(axis=1) instead. To get a de-fragmented frame, use `newframe = frame.copy()`\n",
            "  df2[f'{col}_lag6'] = df2[col].shift(6)\n",
            "<ipython-input-14-97897a035be2>:8: PerformanceWarning: DataFrame is highly fragmented.  This is usually the result of calling `frame.insert` many times, which has poor performance.  Consider joining all columns at once using pd.concat(axis=1) instead. To get a de-fragmented frame, use `newframe = frame.copy()`\n",
            "  df2[f'{col}_lag7'] = df2[col].shift(7)\n",
            "<ipython-input-14-97897a035be2>:2: PerformanceWarning: DataFrame is highly fragmented.  This is usually the result of calling `frame.insert` many times, which has poor performance.  Consider joining all columns at once using pd.concat(axis=1) instead. To get a de-fragmented frame, use `newframe = frame.copy()`\n",
            "  df2[f'{col}_lag1'] = df2[col].shift(1)\n",
            "<ipython-input-14-97897a035be2>:3: PerformanceWarning: DataFrame is highly fragmented.  This is usually the result of calling `frame.insert` many times, which has poor performance.  Consider joining all columns at once using pd.concat(axis=1) instead. To get a de-fragmented frame, use `newframe = frame.copy()`\n",
            "  df2[f'{col}_lag2'] = df2[col].shift(2)\n",
            "<ipython-input-14-97897a035be2>:4: PerformanceWarning: DataFrame is highly fragmented.  This is usually the result of calling `frame.insert` many times, which has poor performance.  Consider joining all columns at once using pd.concat(axis=1) instead. To get a de-fragmented frame, use `newframe = frame.copy()`\n",
            "  df2[f'{col}_lag3'] = df2[col].shift(3)\n",
            "<ipython-input-14-97897a035be2>:5: PerformanceWarning: DataFrame is highly fragmented.  This is usually the result of calling `frame.insert` many times, which has poor performance.  Consider joining all columns at once using pd.concat(axis=1) instead. To get a de-fragmented frame, use `newframe = frame.copy()`\n",
            "  df2[f'{col}_lag4'] = df2[col].shift(4)\n",
            "<ipython-input-14-97897a035be2>:6: PerformanceWarning: DataFrame is highly fragmented.  This is usually the result of calling `frame.insert` many times, which has poor performance.  Consider joining all columns at once using pd.concat(axis=1) instead. To get a de-fragmented frame, use `newframe = frame.copy()`\n",
            "  df2[f'{col}_lag5'] = df2[col].shift(5)\n",
            "<ipython-input-14-97897a035be2>:7: PerformanceWarning: DataFrame is highly fragmented.  This is usually the result of calling `frame.insert` many times, which has poor performance.  Consider joining all columns at once using pd.concat(axis=1) instead. To get a de-fragmented frame, use `newframe = frame.copy()`\n",
            "  df2[f'{col}_lag6'] = df2[col].shift(6)\n",
            "<ipython-input-14-97897a035be2>:8: PerformanceWarning: DataFrame is highly fragmented.  This is usually the result of calling `frame.insert` many times, which has poor performance.  Consider joining all columns at once using pd.concat(axis=1) instead. To get a de-fragmented frame, use `newframe = frame.copy()`\n",
            "  df2[f'{col}_lag7'] = df2[col].shift(7)\n",
            "<ipython-input-14-97897a035be2>:2: PerformanceWarning: DataFrame is highly fragmented.  This is usually the result of calling `frame.insert` many times, which has poor performance.  Consider joining all columns at once using pd.concat(axis=1) instead. To get a de-fragmented frame, use `newframe = frame.copy()`\n",
            "  df2[f'{col}_lag1'] = df2[col].shift(1)\n",
            "<ipython-input-14-97897a035be2>:3: PerformanceWarning: DataFrame is highly fragmented.  This is usually the result of calling `frame.insert` many times, which has poor performance.  Consider joining all columns at once using pd.concat(axis=1) instead. To get a de-fragmented frame, use `newframe = frame.copy()`\n",
            "  df2[f'{col}_lag2'] = df2[col].shift(2)\n",
            "<ipython-input-14-97897a035be2>:4: PerformanceWarning: DataFrame is highly fragmented.  This is usually the result of calling `frame.insert` many times, which has poor performance.  Consider joining all columns at once using pd.concat(axis=1) instead. To get a de-fragmented frame, use `newframe = frame.copy()`\n",
            "  df2[f'{col}_lag3'] = df2[col].shift(3)\n",
            "<ipython-input-14-97897a035be2>:5: PerformanceWarning: DataFrame is highly fragmented.  This is usually the result of calling `frame.insert` many times, which has poor performance.  Consider joining all columns at once using pd.concat(axis=1) instead. To get a de-fragmented frame, use `newframe = frame.copy()`\n",
            "  df2[f'{col}_lag4'] = df2[col].shift(4)\n",
            "<ipython-input-14-97897a035be2>:6: PerformanceWarning: DataFrame is highly fragmented.  This is usually the result of calling `frame.insert` many times, which has poor performance.  Consider joining all columns at once using pd.concat(axis=1) instead. To get a de-fragmented frame, use `newframe = frame.copy()`\n",
            "  df2[f'{col}_lag5'] = df2[col].shift(5)\n",
            "<ipython-input-14-97897a035be2>:7: PerformanceWarning: DataFrame is highly fragmented.  This is usually the result of calling `frame.insert` many times, which has poor performance.  Consider joining all columns at once using pd.concat(axis=1) instead. To get a de-fragmented frame, use `newframe = frame.copy()`\n",
            "  df2[f'{col}_lag6'] = df2[col].shift(6)\n",
            "<ipython-input-14-97897a035be2>:8: PerformanceWarning: DataFrame is highly fragmented.  This is usually the result of calling `frame.insert` many times, which has poor performance.  Consider joining all columns at once using pd.concat(axis=1) instead. To get a de-fragmented frame, use `newframe = frame.copy()`\n",
            "  df2[f'{col}_lag7'] = df2[col].shift(7)\n",
            "<ipython-input-14-97897a035be2>:2: PerformanceWarning: DataFrame is highly fragmented.  This is usually the result of calling `frame.insert` many times, which has poor performance.  Consider joining all columns at once using pd.concat(axis=1) instead. To get a de-fragmented frame, use `newframe = frame.copy()`\n",
            "  df2[f'{col}_lag1'] = df2[col].shift(1)\n",
            "<ipython-input-14-97897a035be2>:3: PerformanceWarning: DataFrame is highly fragmented.  This is usually the result of calling `frame.insert` many times, which has poor performance.  Consider joining all columns at once using pd.concat(axis=1) instead. To get a de-fragmented frame, use `newframe = frame.copy()`\n",
            "  df2[f'{col}_lag2'] = df2[col].shift(2)\n",
            "<ipython-input-14-97897a035be2>:4: PerformanceWarning: DataFrame is highly fragmented.  This is usually the result of calling `frame.insert` many times, which has poor performance.  Consider joining all columns at once using pd.concat(axis=1) instead. To get a de-fragmented frame, use `newframe = frame.copy()`\n",
            "  df2[f'{col}_lag3'] = df2[col].shift(3)\n",
            "<ipython-input-14-97897a035be2>:5: PerformanceWarning: DataFrame is highly fragmented.  This is usually the result of calling `frame.insert` many times, which has poor performance.  Consider joining all columns at once using pd.concat(axis=1) instead. To get a de-fragmented frame, use `newframe = frame.copy()`\n",
            "  df2[f'{col}_lag4'] = df2[col].shift(4)\n",
            "<ipython-input-14-97897a035be2>:6: PerformanceWarning: DataFrame is highly fragmented.  This is usually the result of calling `frame.insert` many times, which has poor performance.  Consider joining all columns at once using pd.concat(axis=1) instead. To get a de-fragmented frame, use `newframe = frame.copy()`\n",
            "  df2[f'{col}_lag5'] = df2[col].shift(5)\n",
            "<ipython-input-14-97897a035be2>:7: PerformanceWarning: DataFrame is highly fragmented.  This is usually the result of calling `frame.insert` many times, which has poor performance.  Consider joining all columns at once using pd.concat(axis=1) instead. To get a de-fragmented frame, use `newframe = frame.copy()`\n",
            "  df2[f'{col}_lag6'] = df2[col].shift(6)\n",
            "<ipython-input-14-97897a035be2>:8: PerformanceWarning: DataFrame is highly fragmented.  This is usually the result of calling `frame.insert` many times, which has poor performance.  Consider joining all columns at once using pd.concat(axis=1) instead. To get a de-fragmented frame, use `newframe = frame.copy()`\n",
            "  df2[f'{col}_lag7'] = df2[col].shift(7)\n",
            "<ipython-input-14-97897a035be2>:2: PerformanceWarning: DataFrame is highly fragmented.  This is usually the result of calling `frame.insert` many times, which has poor performance.  Consider joining all columns at once using pd.concat(axis=1) instead. To get a de-fragmented frame, use `newframe = frame.copy()`\n",
            "  df2[f'{col}_lag1'] = df2[col].shift(1)\n",
            "<ipython-input-14-97897a035be2>:3: PerformanceWarning: DataFrame is highly fragmented.  This is usually the result of calling `frame.insert` many times, which has poor performance.  Consider joining all columns at once using pd.concat(axis=1) instead. To get a de-fragmented frame, use `newframe = frame.copy()`\n",
            "  df2[f'{col}_lag2'] = df2[col].shift(2)\n",
            "<ipython-input-14-97897a035be2>:4: PerformanceWarning: DataFrame is highly fragmented.  This is usually the result of calling `frame.insert` many times, which has poor performance.  Consider joining all columns at once using pd.concat(axis=1) instead. To get a de-fragmented frame, use `newframe = frame.copy()`\n",
            "  df2[f'{col}_lag3'] = df2[col].shift(3)\n",
            "<ipython-input-14-97897a035be2>:5: PerformanceWarning: DataFrame is highly fragmented.  This is usually the result of calling `frame.insert` many times, which has poor performance.  Consider joining all columns at once using pd.concat(axis=1) instead. To get a de-fragmented frame, use `newframe = frame.copy()`\n",
            "  df2[f'{col}_lag4'] = df2[col].shift(4)\n",
            "<ipython-input-14-97897a035be2>:6: PerformanceWarning: DataFrame is highly fragmented.  This is usually the result of calling `frame.insert` many times, which has poor performance.  Consider joining all columns at once using pd.concat(axis=1) instead. To get a de-fragmented frame, use `newframe = frame.copy()`\n",
            "  df2[f'{col}_lag5'] = df2[col].shift(5)\n",
            "<ipython-input-14-97897a035be2>:7: PerformanceWarning: DataFrame is highly fragmented.  This is usually the result of calling `frame.insert` many times, which has poor performance.  Consider joining all columns at once using pd.concat(axis=1) instead. To get a de-fragmented frame, use `newframe = frame.copy()`\n",
            "  df2[f'{col}_lag6'] = df2[col].shift(6)\n",
            "<ipython-input-14-97897a035be2>:8: PerformanceWarning: DataFrame is highly fragmented.  This is usually the result of calling `frame.insert` many times, which has poor performance.  Consider joining all columns at once using pd.concat(axis=1) instead. To get a de-fragmented frame, use `newframe = frame.copy()`\n",
            "  df2[f'{col}_lag7'] = df2[col].shift(7)\n",
            "<ipython-input-14-97897a035be2>:2: PerformanceWarning: DataFrame is highly fragmented.  This is usually the result of calling `frame.insert` many times, which has poor performance.  Consider joining all columns at once using pd.concat(axis=1) instead. To get a de-fragmented frame, use `newframe = frame.copy()`\n",
            "  df2[f'{col}_lag1'] = df2[col].shift(1)\n",
            "<ipython-input-14-97897a035be2>:3: PerformanceWarning: DataFrame is highly fragmented.  This is usually the result of calling `frame.insert` many times, which has poor performance.  Consider joining all columns at once using pd.concat(axis=1) instead. To get a de-fragmented frame, use `newframe = frame.copy()`\n",
            "  df2[f'{col}_lag2'] = df2[col].shift(2)\n",
            "<ipython-input-14-97897a035be2>:4: PerformanceWarning: DataFrame is highly fragmented.  This is usually the result of calling `frame.insert` many times, which has poor performance.  Consider joining all columns at once using pd.concat(axis=1) instead. To get a de-fragmented frame, use `newframe = frame.copy()`\n",
            "  df2[f'{col}_lag3'] = df2[col].shift(3)\n",
            "<ipython-input-14-97897a035be2>:5: PerformanceWarning: DataFrame is highly fragmented.  This is usually the result of calling `frame.insert` many times, which has poor performance.  Consider joining all columns at once using pd.concat(axis=1) instead. To get a de-fragmented frame, use `newframe = frame.copy()`\n",
            "  df2[f'{col}_lag4'] = df2[col].shift(4)\n",
            "<ipython-input-14-97897a035be2>:6: PerformanceWarning: DataFrame is highly fragmented.  This is usually the result of calling `frame.insert` many times, which has poor performance.  Consider joining all columns at once using pd.concat(axis=1) instead. To get a de-fragmented frame, use `newframe = frame.copy()`\n",
            "  df2[f'{col}_lag5'] = df2[col].shift(5)\n",
            "<ipython-input-14-97897a035be2>:7: PerformanceWarning: DataFrame is highly fragmented.  This is usually the result of calling `frame.insert` many times, which has poor performance.  Consider joining all columns at once using pd.concat(axis=1) instead. To get a de-fragmented frame, use `newframe = frame.copy()`\n",
            "  df2[f'{col}_lag6'] = df2[col].shift(6)\n",
            "<ipython-input-14-97897a035be2>:8: PerformanceWarning: DataFrame is highly fragmented.  This is usually the result of calling `frame.insert` many times, which has poor performance.  Consider joining all columns at once using pd.concat(axis=1) instead. To get a de-fragmented frame, use `newframe = frame.copy()`\n",
            "  df2[f'{col}_lag7'] = df2[col].shift(7)\n",
            "<ipython-input-14-97897a035be2>:2: PerformanceWarning: DataFrame is highly fragmented.  This is usually the result of calling `frame.insert` many times, which has poor performance.  Consider joining all columns at once using pd.concat(axis=1) instead. To get a de-fragmented frame, use `newframe = frame.copy()`\n",
            "  df2[f'{col}_lag1'] = df2[col].shift(1)\n",
            "<ipython-input-14-97897a035be2>:3: PerformanceWarning: DataFrame is highly fragmented.  This is usually the result of calling `frame.insert` many times, which has poor performance.  Consider joining all columns at once using pd.concat(axis=1) instead. To get a de-fragmented frame, use `newframe = frame.copy()`\n",
            "  df2[f'{col}_lag2'] = df2[col].shift(2)\n",
            "<ipython-input-14-97897a035be2>:4: PerformanceWarning: DataFrame is highly fragmented.  This is usually the result of calling `frame.insert` many times, which has poor performance.  Consider joining all columns at once using pd.concat(axis=1) instead. To get a de-fragmented frame, use `newframe = frame.copy()`\n",
            "  df2[f'{col}_lag3'] = df2[col].shift(3)\n",
            "<ipython-input-14-97897a035be2>:5: PerformanceWarning: DataFrame is highly fragmented.  This is usually the result of calling `frame.insert` many times, which has poor performance.  Consider joining all columns at once using pd.concat(axis=1) instead. To get a de-fragmented frame, use `newframe = frame.copy()`\n",
            "  df2[f'{col}_lag4'] = df2[col].shift(4)\n",
            "<ipython-input-14-97897a035be2>:6: PerformanceWarning: DataFrame is highly fragmented.  This is usually the result of calling `frame.insert` many times, which has poor performance.  Consider joining all columns at once using pd.concat(axis=1) instead. To get a de-fragmented frame, use `newframe = frame.copy()`\n",
            "  df2[f'{col}_lag5'] = df2[col].shift(5)\n",
            "<ipython-input-14-97897a035be2>:7: PerformanceWarning: DataFrame is highly fragmented.  This is usually the result of calling `frame.insert` many times, which has poor performance.  Consider joining all columns at once using pd.concat(axis=1) instead. To get a de-fragmented frame, use `newframe = frame.copy()`\n",
            "  df2[f'{col}_lag6'] = df2[col].shift(6)\n",
            "<ipython-input-14-97897a035be2>:8: PerformanceWarning: DataFrame is highly fragmented.  This is usually the result of calling `frame.insert` many times, which has poor performance.  Consider joining all columns at once using pd.concat(axis=1) instead. To get a de-fragmented frame, use `newframe = frame.copy()`\n",
            "  df2[f'{col}_lag7'] = df2[col].shift(7)\n",
            "<ipython-input-14-97897a035be2>:2: PerformanceWarning: DataFrame is highly fragmented.  This is usually the result of calling `frame.insert` many times, which has poor performance.  Consider joining all columns at once using pd.concat(axis=1) instead. To get a de-fragmented frame, use `newframe = frame.copy()`\n",
            "  df2[f'{col}_lag1'] = df2[col].shift(1)\n",
            "<ipython-input-14-97897a035be2>:3: PerformanceWarning: DataFrame is highly fragmented.  This is usually the result of calling `frame.insert` many times, which has poor performance.  Consider joining all columns at once using pd.concat(axis=1) instead. To get a de-fragmented frame, use `newframe = frame.copy()`\n",
            "  df2[f'{col}_lag2'] = df2[col].shift(2)\n",
            "<ipython-input-14-97897a035be2>:4: PerformanceWarning: DataFrame is highly fragmented.  This is usually the result of calling `frame.insert` many times, which has poor performance.  Consider joining all columns at once using pd.concat(axis=1) instead. To get a de-fragmented frame, use `newframe = frame.copy()`\n",
            "  df2[f'{col}_lag3'] = df2[col].shift(3)\n",
            "<ipython-input-14-97897a035be2>:5: PerformanceWarning: DataFrame is highly fragmented.  This is usually the result of calling `frame.insert` many times, which has poor performance.  Consider joining all columns at once using pd.concat(axis=1) instead. To get a de-fragmented frame, use `newframe = frame.copy()`\n",
            "  df2[f'{col}_lag4'] = df2[col].shift(4)\n",
            "<ipython-input-14-97897a035be2>:6: PerformanceWarning: DataFrame is highly fragmented.  This is usually the result of calling `frame.insert` many times, which has poor performance.  Consider joining all columns at once using pd.concat(axis=1) instead. To get a de-fragmented frame, use `newframe = frame.copy()`\n",
            "  df2[f'{col}_lag5'] = df2[col].shift(5)\n",
            "<ipython-input-14-97897a035be2>:7: PerformanceWarning: DataFrame is highly fragmented.  This is usually the result of calling `frame.insert` many times, which has poor performance.  Consider joining all columns at once using pd.concat(axis=1) instead. To get a de-fragmented frame, use `newframe = frame.copy()`\n",
            "  df2[f'{col}_lag6'] = df2[col].shift(6)\n",
            "<ipython-input-14-97897a035be2>:8: PerformanceWarning: DataFrame is highly fragmented.  This is usually the result of calling `frame.insert` many times, which has poor performance.  Consider joining all columns at once using pd.concat(axis=1) instead. To get a de-fragmented frame, use `newframe = frame.copy()`\n",
            "  df2[f'{col}_lag7'] = df2[col].shift(7)\n",
            "<ipython-input-14-97897a035be2>:2: PerformanceWarning: DataFrame is highly fragmented.  This is usually the result of calling `frame.insert` many times, which has poor performance.  Consider joining all columns at once using pd.concat(axis=1) instead. To get a de-fragmented frame, use `newframe = frame.copy()`\n",
            "  df2[f'{col}_lag1'] = df2[col].shift(1)\n",
            "<ipython-input-14-97897a035be2>:3: PerformanceWarning: DataFrame is highly fragmented.  This is usually the result of calling `frame.insert` many times, which has poor performance.  Consider joining all columns at once using pd.concat(axis=1) instead. To get a de-fragmented frame, use `newframe = frame.copy()`\n",
            "  df2[f'{col}_lag2'] = df2[col].shift(2)\n",
            "<ipython-input-14-97897a035be2>:4: PerformanceWarning: DataFrame is highly fragmented.  This is usually the result of calling `frame.insert` many times, which has poor performance.  Consider joining all columns at once using pd.concat(axis=1) instead. To get a de-fragmented frame, use `newframe = frame.copy()`\n",
            "  df2[f'{col}_lag3'] = df2[col].shift(3)\n",
            "<ipython-input-14-97897a035be2>:5: PerformanceWarning: DataFrame is highly fragmented.  This is usually the result of calling `frame.insert` many times, which has poor performance.  Consider joining all columns at once using pd.concat(axis=1) instead. To get a de-fragmented frame, use `newframe = frame.copy()`\n",
            "  df2[f'{col}_lag4'] = df2[col].shift(4)\n",
            "<ipython-input-14-97897a035be2>:6: PerformanceWarning: DataFrame is highly fragmented.  This is usually the result of calling `frame.insert` many times, which has poor performance.  Consider joining all columns at once using pd.concat(axis=1) instead. To get a de-fragmented frame, use `newframe = frame.copy()`\n",
            "  df2[f'{col}_lag5'] = df2[col].shift(5)\n",
            "<ipython-input-14-97897a035be2>:7: PerformanceWarning: DataFrame is highly fragmented.  This is usually the result of calling `frame.insert` many times, which has poor performance.  Consider joining all columns at once using pd.concat(axis=1) instead. To get a de-fragmented frame, use `newframe = frame.copy()`\n",
            "  df2[f'{col}_lag6'] = df2[col].shift(6)\n",
            "<ipython-input-14-97897a035be2>:8: PerformanceWarning: DataFrame is highly fragmented.  This is usually the result of calling `frame.insert` many times, which has poor performance.  Consider joining all columns at once using pd.concat(axis=1) instead. To get a de-fragmented frame, use `newframe = frame.copy()`\n",
            "  df2[f'{col}_lag7'] = df2[col].shift(7)\n"
          ]
        }
      ]
    },
    {
      "cell_type": "code",
      "source": [
        "df2.to_csv('variables.Leag.csv', index=False)\n",
        "print(df2.head(10))"
      ],
      "metadata": {
        "colab": {
          "base_uri": "https://localhost:8080/"
        },
        "id": "89SWd0Wr6VMb",
        "outputId": "bf387ba7-1d03-4e35-82c7-f09286076152"
      },
      "execution_count": 15,
      "outputs": [
        {
          "output_type": "stream",
          "name": "stdout",
          "text": [
            "     CDM.PM25  SJL.PM25  CDM.PM10  STA.PM10  VMT.PM10  CRB.PM10   TEM  TMAX  \\\n",
            "184      18.7      33.0      43.8      48.0      62.5      74.5  18.7  20.4   \n",
            "185      16.4      21.8      41.0      39.7      55.1      67.8  19.1  21.4   \n",
            "186      11.6      20.9      37.7      33.6      43.1      45.9  18.5  20.0   \n",
            "187      12.2      20.0      52.0      33.1      60.8      58.3  18.0  18.7   \n",
            "188      16.4      26.2      53.7      45.0      65.9      69.6  18.5  20.1   \n",
            "189      21.4      37.1      57.5      59.0      48.5      80.7  18.4  20.6   \n",
            "190      23.3      40.4      60.7      61.5      37.6      92.9  18.3  20.2   \n",
            "191      19.3      36.8      52.2      59.9      48.5      90.8  18.2  20.0   \n",
            "192      19.0      30.0      44.2      46.3      56.9      87.5  18.0  19.8   \n",
            "193      17.3      29.4      43.2      46.3      57.5      69.3  17.9  19.6   \n",
            "\n",
            "     TMIN  RH  ...  Max.HI_lag5  Max.HI_lag6  Max.HI_lag7  Tamplitude_lag1  \\\n",
            "184  17.7  86  ...          NaN          NaN          NaN              NaN   \n",
            "185  18.3  83  ...          NaN          NaN          NaN              2.7   \n",
            "186  17.7  89  ...          NaN          NaN          NaN              3.1   \n",
            "187  17.1  85  ...          NaN          NaN          NaN              2.3   \n",
            "188  17.9  79  ...          NaN          NaN          NaN              1.6   \n",
            "189  17.3  76  ...         21.7          NaN          NaN              2.2   \n",
            "190  17.5  77  ...         22.5         21.7          NaN              3.3   \n",
            "191  17.1  79  ...         20.9         22.5         21.7              2.7   \n",
            "192  16.8  82  ...         21.1         20.9         22.5              2.9   \n",
            "193  16.4  84  ...         23.5         21.1         20.9              3.0   \n",
            "\n",
            "     Tamplitude_lag2  Tamplitude_lag3  Tamplitude_lag4  Tamplitude_lag5  \\\n",
            "184              NaN              NaN              NaN              NaN   \n",
            "185              NaN              NaN              NaN              NaN   \n",
            "186              2.7              NaN              NaN              NaN   \n",
            "187              3.1              2.7              NaN              NaN   \n",
            "188              2.3              3.1              2.7              NaN   \n",
            "189              1.6              2.3              3.1              2.7   \n",
            "190              2.2              1.6              2.3              3.1   \n",
            "191              3.3              2.2              1.6              2.3   \n",
            "192              2.7              3.3              2.2              1.6   \n",
            "193              2.9              2.7              3.3              2.2   \n",
            "\n",
            "     Tamplitude_lag6  Tamplitude_lag7  \n",
            "184              NaN              NaN  \n",
            "185              NaN              NaN  \n",
            "186              NaN              NaN  \n",
            "187              NaN              NaN  \n",
            "188              NaN              NaN  \n",
            "189              NaN              NaN  \n",
            "190              2.7              NaN  \n",
            "191              3.1              2.7  \n",
            "192              2.3              3.1  \n",
            "193              1.6              2.3  \n",
            "\n",
            "[10 rows x 168 columns]\n"
          ]
        }
      ]
    },
    {
      "cell_type": "code",
      "source": [
        "#here join all Ira with all lag columns with 2711 rows\n",
        "# Concatenate IRA and df2 along the columns (axis=1)\n",
        "# IRA has 4 columns and df2 has 168 columns\n",
        "df3 = pd.concat([date1, IRA, df2, time1], axis=1)\n",
        "\n",
        "# Display the new DataFrame df3\n",
        "print(df3)\n"
      ],
      "metadata": {
        "colab": {
          "base_uri": "https://localhost:8080/"
        },
        "id": "RiF5HRjuCZz3",
        "outputId": "543d548e-83f2-4d9f-d3fa-de84f8e4de85"
      },
      "execution_count": 16,
      "outputs": [
        {
          "output_type": "stream",
          "name": "stdout",
          "text": [
            "           date  IRA.Sul  IRA.Central  IRA.Este  IRA.Norte  IRAmetro  \\\n",
            "184  2015-07-04   2662.0       2134.0    3307.0     2880.0   10983.0   \n",
            "185  2015-07-05   2662.0       2134.0    3307.0     2880.0   10983.0   \n",
            "186  2015-07-06   2461.0       2263.0    3446.0     2732.0   10902.0   \n",
            "187  2015-07-07   2461.0       2263.0    3446.0     2732.0   10902.0   \n",
            "188  2015-07-08   2461.0       2263.0    3446.0     2732.0   10902.0   \n",
            "...         ...      ...          ...       ...        ...       ...   \n",
            "2917 2022-12-27   1574.0        820.0    1557.0     1125.0    5076.0   \n",
            "2918 2022-12-28   1574.0        820.0    1557.0     1125.0    5076.0   \n",
            "2919 2022-12-29   1574.0        820.0    1557.0     1125.0    5076.0   \n",
            "2920 2022-12-30   1574.0        820.0    1557.0     1125.0    5076.0   \n",
            "2921 2022-12-31   1574.0        820.0    1557.0     1125.0    5076.0   \n",
            "\n",
            "      CDM.PM25  SJL.PM25  CDM.PM10  STA.PM10  ...  Tamplitude_lag1  \\\n",
            "184       18.7      33.0      43.8      48.0  ...              NaN   \n",
            "185       16.4      21.8      41.0      39.7  ...              2.7   \n",
            "186       11.6      20.9      37.7      33.6  ...              3.1   \n",
            "187       12.2      20.0      52.0      33.1  ...              2.3   \n",
            "188       16.4      26.2      53.7      45.0  ...              1.6   \n",
            "...        ...       ...       ...       ...  ...              ...   \n",
            "2917      13.1      26.6      15.8      45.4  ...              5.6   \n",
            "2918      15.8      27.2      19.1      48.1  ...              5.1   \n",
            "2919      23.6      35.5      29.6      61.8  ...              4.4   \n",
            "2920      17.2      26.0      20.8      55.4  ...              5.3   \n",
            "2921      13.8      25.6      17.6      47.0  ...              5.9   \n",
            "\n",
            "      Tamplitude_lag2  Tamplitude_lag3  Tamplitude_lag4  Tamplitude_lag5  \\\n",
            "184               NaN              NaN              NaN              NaN   \n",
            "185               NaN              NaN              NaN              NaN   \n",
            "186               2.7              NaN              NaN              NaN   \n",
            "187               3.1              2.7              NaN              NaN   \n",
            "188               2.3              3.1              2.7              NaN   \n",
            "...               ...              ...              ...              ...   \n",
            "2917              4.9              4.2              6.9              2.9   \n",
            "2918              5.6              4.9              4.2              6.9   \n",
            "2919              5.1              5.6              4.9              4.2   \n",
            "2920              4.4              5.1              5.6              4.9   \n",
            "2921              5.3              4.4              5.1              5.6   \n",
            "\n",
            "      Tamplitude_lag6  Tamplitude_lag7  Year  Month  Day  \n",
            "184               NaN              NaN  2015      7    4  \n",
            "185               NaN              NaN  2015      7    5  \n",
            "186               NaN              NaN  2015      7    6  \n",
            "187               NaN              NaN  2015      7    7  \n",
            "188               NaN              NaN  2015      7    8  \n",
            "...               ...              ...   ...    ...  ...  \n",
            "2917              5.1              4.2  2022     12   27  \n",
            "2918              2.9              5.1  2022     12   28  \n",
            "2919              6.9              2.9  2022     12   29  \n",
            "2920              4.2              6.9  2022     12   30  \n",
            "2921              4.9              4.2  2022     12   31  \n",
            "\n",
            "[2711 rows x 177 columns]\n"
          ]
        }
      ]
    },
    {
      "cell_type": "code",
      "source": [
        "# Drop rows with NaN values\n",
        "df4 = df3.dropna()\n",
        "print(df4.head(10))\n",
        "df4.to_csv('All.Variales.Data.csv', index=False)"
      ],
      "metadata": {
        "colab": {
          "base_uri": "https://localhost:8080/"
        },
        "id": "2-5uEEtK-X0w",
        "outputId": "5b6526a9-9a53-4446-ca3b-49f4ea41ed77"
      },
      "execution_count": 17,
      "outputs": [
        {
          "output_type": "stream",
          "name": "stdout",
          "text": [
            "          date  IRA.Sul  IRA.Central  IRA.Este  IRA.Norte  IRAmetro  CDM.PM25  \\\n",
            "191 2015-07-11   2461.0       2263.0    3446.0     2732.0   10902.0      19.3   \n",
            "192 2015-07-12   2461.0       2263.0    3446.0     2732.0   10902.0      19.0   \n",
            "193 2015-07-13   2526.0       2069.0    3230.0     2678.0   10503.0      17.3   \n",
            "194 2015-07-14   2526.0       2069.0    3230.0     2678.0   10503.0      11.7   \n",
            "195 2015-07-15   2526.0       2069.0    3230.0     2678.0   10503.0      17.1   \n",
            "196 2015-07-16   2526.0       2069.0    3230.0     2678.0   10503.0      17.0   \n",
            "197 2015-07-17   2526.0       2069.0    3230.0     2678.0   10503.0      14.7   \n",
            "198 2015-07-18   2526.0       2069.0    3230.0     2678.0   10503.0      12.8   \n",
            "199 2015-07-19   2526.0       2069.0    3230.0     2678.0   10503.0      12.1   \n",
            "200 2015-07-20   2154.0       1300.0    2859.0     2083.0    8396.0      16.9   \n",
            "\n",
            "     SJL.PM25  CDM.PM10  STA.PM10  ...  Tamplitude_lag1  Tamplitude_lag2  \\\n",
            "191      36.8      52.2      59.9  ...              2.7              3.3   \n",
            "192      30.0      44.2      46.3  ...              2.9              2.7   \n",
            "193      29.4      43.2      46.3  ...              3.0              2.9   \n",
            "194      17.4      39.0      30.3  ...              3.2              3.0   \n",
            "195      31.3      56.2      53.2  ...              2.3              3.2   \n",
            "196      28.4      53.5      47.4  ...              1.7              2.3   \n",
            "197      27.7      43.2      41.7  ...              2.3              1.7   \n",
            "198      20.2      36.7      34.7  ...              1.8              2.3   \n",
            "199      16.5      29.3      26.3  ...              1.6              1.8   \n",
            "200      21.1      54.1      48.4  ...              1.9              1.6   \n",
            "\n",
            "     Tamplitude_lag3  Tamplitude_lag4  Tamplitude_lag5  Tamplitude_lag6  \\\n",
            "191              2.2              1.6              2.3              3.1   \n",
            "192              3.3              2.2              1.6              2.3   \n",
            "193              2.7              3.3              2.2              1.6   \n",
            "194              2.9              2.7              3.3              2.2   \n",
            "195              3.0              2.9              2.7              3.3   \n",
            "196              3.2              3.0              2.9              2.7   \n",
            "197              2.3              3.2              3.0              2.9   \n",
            "198              1.7              2.3              3.2              3.0   \n",
            "199              2.3              1.7              2.3              3.2   \n",
            "200              1.8              2.3              1.7              2.3   \n",
            "\n",
            "     Tamplitude_lag7  Year  Month  Day  \n",
            "191              2.7  2015      7   11  \n",
            "192              3.1  2015      7   12  \n",
            "193              2.3  2015      7   13  \n",
            "194              1.6  2015      7   14  \n",
            "195              2.2  2015      7   15  \n",
            "196              3.3  2015      7   16  \n",
            "197              2.7  2015      7   17  \n",
            "198              2.9  2015      7   18  \n",
            "199              3.0  2015      7   19  \n",
            "200              3.2  2015      7   20  \n",
            "\n",
            "[10 rows x 177 columns]\n"
          ]
        }
      ]
    },
    {
      "cell_type": "code",
      "source": [
        "X = df4.drop(['date', 'IRA.Norte', 'IRA.Sul', 'IRA.Central', 'IRA.Este', 'IRAmetro', 'Year', 'Month', 'Day'], axis=1)\n",
        "y = df4['IRAmetro']\n",
        "print(X.head(5))\n"
      ],
      "metadata": {
        "colab": {
          "base_uri": "https://localhost:8080/"
        },
        "id": "a2jeRMvoilqC",
        "outputId": "c095ba8f-e6ab-4d2b-a1d3-610b63ac0740"
      },
      "execution_count": null,
      "outputs": [
        {
          "output_type": "stream",
          "name": "stdout",
          "text": [
            "     CDM.PM25  SJL.PM25  CDM.PM10  STA.PM10  VMT.PM10  CRB.PM10   TEM  TMAX  \\\n",
            "191      19.3      36.8      52.2      59.9      48.5      90.8  18.2  20.0   \n",
            "192      19.0      30.0      44.2      46.3      56.9      87.5  18.0  19.8   \n",
            "193      17.3      29.4      43.2      46.3      57.5      69.3  17.9  19.6   \n",
            "194      11.7      17.4      39.0      30.3      53.7      46.9  17.3  18.3   \n",
            "195      17.1      31.3      56.2      53.2      35.9      77.6  17.8  18.9   \n",
            "\n",
            "     TMIN  RH  ...  Max.HI_lag5  Max.HI_lag6  Max.HI_lag7  Tamplitude_lag1  \\\n",
            "191  17.1  79  ...         20.9         22.5         21.7              2.7   \n",
            "192  16.8  82  ...         21.1         20.9         22.5              2.9   \n",
            "193  16.4  84  ...         23.5         21.1         20.9              3.0   \n",
            "194  16.0  86  ...         23.9         23.5         21.1              3.2   \n",
            "195  17.2  82  ...         23.2         23.9         23.5              2.3   \n",
            "\n",
            "     Tamplitude_lag2  Tamplitude_lag3  Tamplitude_lag4  Tamplitude_lag5  \\\n",
            "191              3.3              2.2              1.6              2.3   \n",
            "192              2.7              3.3              2.2              1.6   \n",
            "193              2.9              2.7              3.3              2.2   \n",
            "194              3.0              2.9              2.7              3.3   \n",
            "195              3.2              3.0              2.9              2.7   \n",
            "\n",
            "     Tamplitude_lag6  Tamplitude_lag7  \n",
            "191              3.1              2.7  \n",
            "192              2.3              3.1  \n",
            "193              1.6              2.3  \n",
            "194              2.2              1.6  \n",
            "195              3.3              2.2  \n",
            "\n",
            "[5 rows x 168 columns]\n"
          ]
        }
      ]
    },
    {
      "cell_type": "code",
      "source": [
        "print(y)"
      ],
      "metadata": {
        "colab": {
          "base_uri": "https://localhost:8080/"
        },
        "id": "FaueZZSgj8vY",
        "outputId": "d1c9540c-102b-478c-d9c0-5c45a318225f"
      },
      "execution_count": null,
      "outputs": [
        {
          "output_type": "stream",
          "name": "stdout",
          "text": [
            "191     10902.0\n",
            "192     10902.0\n",
            "193     10503.0\n",
            "194     10503.0\n",
            "195     10503.0\n",
            "         ...   \n",
            "2917     5076.0\n",
            "2918     5076.0\n",
            "2919     5076.0\n",
            "2920     5076.0\n",
            "2921     5076.0\n",
            "Name: IRAmetro, Length: 2704, dtype: float64\n"
          ]
        }
      ]
    },
    {
      "cell_type": "code",
      "source": [
        "#Model development (setup train and test dataset using 80/20 split()). Then we setup our model\n",
        "#using RandomForestRegressor funtion; n_estimators is numer of trees we want to create\n",
        "x_train, x_test, y_train, y_test = train_test_split(X, y, test_size=0.2, random_state=42)\n",
        "# Check for NaN values\n",
        "if x_train.isnull().values.any() or y_train.isnull().values.any():\n",
        "    x_train = x_train.dropna()\n",
        "    y_train = y_train[x_train.index]  # Align y_train with x_train\n",
        "\n",
        "if x_test.isnull().values.any() or y_test.isnull().values.any():\n",
        "    x_test = x_test.dropna()\n",
        "    y_test = y_test[x_test.index]  # Align y_test with x_test\n",
        "\n",
        "h = RandomForestRegressor(n_estimators=100, random_state=42)"
      ],
      "metadata": {
        "id": "OJP3p6fvpxDZ"
      },
      "execution_count": null,
      "outputs": []
    },
    {
      "cell_type": "code",
      "source": [
        "# Fit the model again\n",
        "h.fit(x_train, y_train)"
      ],
      "metadata": {
        "colab": {
          "base_uri": "https://localhost:8080/",
          "height": 80
        },
        "id": "L-UmOz4uqvbU",
        "outputId": "8d9c796e-1331-4ada-e392-9ee7484cecdc"
      },
      "execution_count": null,
      "outputs": [
        {
          "output_type": "execute_result",
          "data": {
            "text/plain": [
              "RandomForestRegressor(random_state=42)"
            ],
            "text/html": [
              "<style>#sk-container-id-1 {\n",
              "  /* Definition of color scheme common for light and dark mode */\n",
              "  --sklearn-color-text: #000;\n",
              "  --sklearn-color-text-muted: #666;\n",
              "  --sklearn-color-line: gray;\n",
              "  /* Definition of color scheme for unfitted estimators */\n",
              "  --sklearn-color-unfitted-level-0: #fff5e6;\n",
              "  --sklearn-color-unfitted-level-1: #f6e4d2;\n",
              "  --sklearn-color-unfitted-level-2: #ffe0b3;\n",
              "  --sklearn-color-unfitted-level-3: chocolate;\n",
              "  /* Definition of color scheme for fitted estimators */\n",
              "  --sklearn-color-fitted-level-0: #f0f8ff;\n",
              "  --sklearn-color-fitted-level-1: #d4ebff;\n",
              "  --sklearn-color-fitted-level-2: #b3dbfd;\n",
              "  --sklearn-color-fitted-level-3: cornflowerblue;\n",
              "\n",
              "  /* Specific color for light theme */\n",
              "  --sklearn-color-text-on-default-background: var(--sg-text-color, var(--theme-code-foreground, var(--jp-content-font-color1, black)));\n",
              "  --sklearn-color-background: var(--sg-background-color, var(--theme-background, var(--jp-layout-color0, white)));\n",
              "  --sklearn-color-border-box: var(--sg-text-color, var(--theme-code-foreground, var(--jp-content-font-color1, black)));\n",
              "  --sklearn-color-icon: #696969;\n",
              "\n",
              "  @media (prefers-color-scheme: dark) {\n",
              "    /* Redefinition of color scheme for dark theme */\n",
              "    --sklearn-color-text-on-default-background: var(--sg-text-color, var(--theme-code-foreground, var(--jp-content-font-color1, white)));\n",
              "    --sklearn-color-background: var(--sg-background-color, var(--theme-background, var(--jp-layout-color0, #111)));\n",
              "    --sklearn-color-border-box: var(--sg-text-color, var(--theme-code-foreground, var(--jp-content-font-color1, white)));\n",
              "    --sklearn-color-icon: #878787;\n",
              "  }\n",
              "}\n",
              "\n",
              "#sk-container-id-1 {\n",
              "  color: var(--sklearn-color-text);\n",
              "}\n",
              "\n",
              "#sk-container-id-1 pre {\n",
              "  padding: 0;\n",
              "}\n",
              "\n",
              "#sk-container-id-1 input.sk-hidden--visually {\n",
              "  border: 0;\n",
              "  clip: rect(1px 1px 1px 1px);\n",
              "  clip: rect(1px, 1px, 1px, 1px);\n",
              "  height: 1px;\n",
              "  margin: -1px;\n",
              "  overflow: hidden;\n",
              "  padding: 0;\n",
              "  position: absolute;\n",
              "  width: 1px;\n",
              "}\n",
              "\n",
              "#sk-container-id-1 div.sk-dashed-wrapped {\n",
              "  border: 1px dashed var(--sklearn-color-line);\n",
              "  margin: 0 0.4em 0.5em 0.4em;\n",
              "  box-sizing: border-box;\n",
              "  padding-bottom: 0.4em;\n",
              "  background-color: var(--sklearn-color-background);\n",
              "}\n",
              "\n",
              "#sk-container-id-1 div.sk-container {\n",
              "  /* jupyter's `normalize.less` sets `[hidden] { display: none; }`\n",
              "     but bootstrap.min.css set `[hidden] { display: none !important; }`\n",
              "     so we also need the `!important` here to be able to override the\n",
              "     default hidden behavior on the sphinx rendered scikit-learn.org.\n",
              "     See: https://github.com/scikit-learn/scikit-learn/issues/21755 */\n",
              "  display: inline-block !important;\n",
              "  position: relative;\n",
              "}\n",
              "\n",
              "#sk-container-id-1 div.sk-text-repr-fallback {\n",
              "  display: none;\n",
              "}\n",
              "\n",
              "div.sk-parallel-item,\n",
              "div.sk-serial,\n",
              "div.sk-item {\n",
              "  /* draw centered vertical line to link estimators */\n",
              "  background-image: linear-gradient(var(--sklearn-color-text-on-default-background), var(--sklearn-color-text-on-default-background));\n",
              "  background-size: 2px 100%;\n",
              "  background-repeat: no-repeat;\n",
              "  background-position: center center;\n",
              "}\n",
              "\n",
              "/* Parallel-specific style estimator block */\n",
              "\n",
              "#sk-container-id-1 div.sk-parallel-item::after {\n",
              "  content: \"\";\n",
              "  width: 100%;\n",
              "  border-bottom: 2px solid var(--sklearn-color-text-on-default-background);\n",
              "  flex-grow: 1;\n",
              "}\n",
              "\n",
              "#sk-container-id-1 div.sk-parallel {\n",
              "  display: flex;\n",
              "  align-items: stretch;\n",
              "  justify-content: center;\n",
              "  background-color: var(--sklearn-color-background);\n",
              "  position: relative;\n",
              "}\n",
              "\n",
              "#sk-container-id-1 div.sk-parallel-item {\n",
              "  display: flex;\n",
              "  flex-direction: column;\n",
              "}\n",
              "\n",
              "#sk-container-id-1 div.sk-parallel-item:first-child::after {\n",
              "  align-self: flex-end;\n",
              "  width: 50%;\n",
              "}\n",
              "\n",
              "#sk-container-id-1 div.sk-parallel-item:last-child::after {\n",
              "  align-self: flex-start;\n",
              "  width: 50%;\n",
              "}\n",
              "\n",
              "#sk-container-id-1 div.sk-parallel-item:only-child::after {\n",
              "  width: 0;\n",
              "}\n",
              "\n",
              "/* Serial-specific style estimator block */\n",
              "\n",
              "#sk-container-id-1 div.sk-serial {\n",
              "  display: flex;\n",
              "  flex-direction: column;\n",
              "  align-items: center;\n",
              "  background-color: var(--sklearn-color-background);\n",
              "  padding-right: 1em;\n",
              "  padding-left: 1em;\n",
              "}\n",
              "\n",
              "\n",
              "/* Toggleable style: style used for estimator/Pipeline/ColumnTransformer box that is\n",
              "clickable and can be expanded/collapsed.\n",
              "- Pipeline and ColumnTransformer use this feature and define the default style\n",
              "- Estimators will overwrite some part of the style using the `sk-estimator` class\n",
              "*/\n",
              "\n",
              "/* Pipeline and ColumnTransformer style (default) */\n",
              "\n",
              "#sk-container-id-1 div.sk-toggleable {\n",
              "  /* Default theme specific background. It is overwritten whether we have a\n",
              "  specific estimator or a Pipeline/ColumnTransformer */\n",
              "  background-color: var(--sklearn-color-background);\n",
              "}\n",
              "\n",
              "/* Toggleable label */\n",
              "#sk-container-id-1 label.sk-toggleable__label {\n",
              "  cursor: pointer;\n",
              "  display: flex;\n",
              "  width: 100%;\n",
              "  margin-bottom: 0;\n",
              "  padding: 0.5em;\n",
              "  box-sizing: border-box;\n",
              "  text-align: center;\n",
              "  align-items: start;\n",
              "  justify-content: space-between;\n",
              "  gap: 0.5em;\n",
              "}\n",
              "\n",
              "#sk-container-id-1 label.sk-toggleable__label .caption {\n",
              "  font-size: 0.6rem;\n",
              "  font-weight: lighter;\n",
              "  color: var(--sklearn-color-text-muted);\n",
              "}\n",
              "\n",
              "#sk-container-id-1 label.sk-toggleable__label-arrow:before {\n",
              "  /* Arrow on the left of the label */\n",
              "  content: \"▸\";\n",
              "  float: left;\n",
              "  margin-right: 0.25em;\n",
              "  color: var(--sklearn-color-icon);\n",
              "}\n",
              "\n",
              "#sk-container-id-1 label.sk-toggleable__label-arrow:hover:before {\n",
              "  color: var(--sklearn-color-text);\n",
              "}\n",
              "\n",
              "/* Toggleable content - dropdown */\n",
              "\n",
              "#sk-container-id-1 div.sk-toggleable__content {\n",
              "  max-height: 0;\n",
              "  max-width: 0;\n",
              "  overflow: hidden;\n",
              "  text-align: left;\n",
              "  /* unfitted */\n",
              "  background-color: var(--sklearn-color-unfitted-level-0);\n",
              "}\n",
              "\n",
              "#sk-container-id-1 div.sk-toggleable__content.fitted {\n",
              "  /* fitted */\n",
              "  background-color: var(--sklearn-color-fitted-level-0);\n",
              "}\n",
              "\n",
              "#sk-container-id-1 div.sk-toggleable__content pre {\n",
              "  margin: 0.2em;\n",
              "  border-radius: 0.25em;\n",
              "  color: var(--sklearn-color-text);\n",
              "  /* unfitted */\n",
              "  background-color: var(--sklearn-color-unfitted-level-0);\n",
              "}\n",
              "\n",
              "#sk-container-id-1 div.sk-toggleable__content.fitted pre {\n",
              "  /* unfitted */\n",
              "  background-color: var(--sklearn-color-fitted-level-0);\n",
              "}\n",
              "\n",
              "#sk-container-id-1 input.sk-toggleable__control:checked~div.sk-toggleable__content {\n",
              "  /* Expand drop-down */\n",
              "  max-height: 200px;\n",
              "  max-width: 100%;\n",
              "  overflow: auto;\n",
              "}\n",
              "\n",
              "#sk-container-id-1 input.sk-toggleable__control:checked~label.sk-toggleable__label-arrow:before {\n",
              "  content: \"▾\";\n",
              "}\n",
              "\n",
              "/* Pipeline/ColumnTransformer-specific style */\n",
              "\n",
              "#sk-container-id-1 div.sk-label input.sk-toggleable__control:checked~label.sk-toggleable__label {\n",
              "  color: var(--sklearn-color-text);\n",
              "  background-color: var(--sklearn-color-unfitted-level-2);\n",
              "}\n",
              "\n",
              "#sk-container-id-1 div.sk-label.fitted input.sk-toggleable__control:checked~label.sk-toggleable__label {\n",
              "  background-color: var(--sklearn-color-fitted-level-2);\n",
              "}\n",
              "\n",
              "/* Estimator-specific style */\n",
              "\n",
              "/* Colorize estimator box */\n",
              "#sk-container-id-1 div.sk-estimator input.sk-toggleable__control:checked~label.sk-toggleable__label {\n",
              "  /* unfitted */\n",
              "  background-color: var(--sklearn-color-unfitted-level-2);\n",
              "}\n",
              "\n",
              "#sk-container-id-1 div.sk-estimator.fitted input.sk-toggleable__control:checked~label.sk-toggleable__label {\n",
              "  /* fitted */\n",
              "  background-color: var(--sklearn-color-fitted-level-2);\n",
              "}\n",
              "\n",
              "#sk-container-id-1 div.sk-label label.sk-toggleable__label,\n",
              "#sk-container-id-1 div.sk-label label {\n",
              "  /* The background is the default theme color */\n",
              "  color: var(--sklearn-color-text-on-default-background);\n",
              "}\n",
              "\n",
              "/* On hover, darken the color of the background */\n",
              "#sk-container-id-1 div.sk-label:hover label.sk-toggleable__label {\n",
              "  color: var(--sklearn-color-text);\n",
              "  background-color: var(--sklearn-color-unfitted-level-2);\n",
              "}\n",
              "\n",
              "/* Label box, darken color on hover, fitted */\n",
              "#sk-container-id-1 div.sk-label.fitted:hover label.sk-toggleable__label.fitted {\n",
              "  color: var(--sklearn-color-text);\n",
              "  background-color: var(--sklearn-color-fitted-level-2);\n",
              "}\n",
              "\n",
              "/* Estimator label */\n",
              "\n",
              "#sk-container-id-1 div.sk-label label {\n",
              "  font-family: monospace;\n",
              "  font-weight: bold;\n",
              "  display: inline-block;\n",
              "  line-height: 1.2em;\n",
              "}\n",
              "\n",
              "#sk-container-id-1 div.sk-label-container {\n",
              "  text-align: center;\n",
              "}\n",
              "\n",
              "/* Estimator-specific */\n",
              "#sk-container-id-1 div.sk-estimator {\n",
              "  font-family: monospace;\n",
              "  border: 1px dotted var(--sklearn-color-border-box);\n",
              "  border-radius: 0.25em;\n",
              "  box-sizing: border-box;\n",
              "  margin-bottom: 0.5em;\n",
              "  /* unfitted */\n",
              "  background-color: var(--sklearn-color-unfitted-level-0);\n",
              "}\n",
              "\n",
              "#sk-container-id-1 div.sk-estimator.fitted {\n",
              "  /* fitted */\n",
              "  background-color: var(--sklearn-color-fitted-level-0);\n",
              "}\n",
              "\n",
              "/* on hover */\n",
              "#sk-container-id-1 div.sk-estimator:hover {\n",
              "  /* unfitted */\n",
              "  background-color: var(--sklearn-color-unfitted-level-2);\n",
              "}\n",
              "\n",
              "#sk-container-id-1 div.sk-estimator.fitted:hover {\n",
              "  /* fitted */\n",
              "  background-color: var(--sklearn-color-fitted-level-2);\n",
              "}\n",
              "\n",
              "/* Specification for estimator info (e.g. \"i\" and \"?\") */\n",
              "\n",
              "/* Common style for \"i\" and \"?\" */\n",
              "\n",
              ".sk-estimator-doc-link,\n",
              "a:link.sk-estimator-doc-link,\n",
              "a:visited.sk-estimator-doc-link {\n",
              "  float: right;\n",
              "  font-size: smaller;\n",
              "  line-height: 1em;\n",
              "  font-family: monospace;\n",
              "  background-color: var(--sklearn-color-background);\n",
              "  border-radius: 1em;\n",
              "  height: 1em;\n",
              "  width: 1em;\n",
              "  text-decoration: none !important;\n",
              "  margin-left: 0.5em;\n",
              "  text-align: center;\n",
              "  /* unfitted */\n",
              "  border: var(--sklearn-color-unfitted-level-1) 1pt solid;\n",
              "  color: var(--sklearn-color-unfitted-level-1);\n",
              "}\n",
              "\n",
              ".sk-estimator-doc-link.fitted,\n",
              "a:link.sk-estimator-doc-link.fitted,\n",
              "a:visited.sk-estimator-doc-link.fitted {\n",
              "  /* fitted */\n",
              "  border: var(--sklearn-color-fitted-level-1) 1pt solid;\n",
              "  color: var(--sklearn-color-fitted-level-1);\n",
              "}\n",
              "\n",
              "/* On hover */\n",
              "div.sk-estimator:hover .sk-estimator-doc-link:hover,\n",
              ".sk-estimator-doc-link:hover,\n",
              "div.sk-label-container:hover .sk-estimator-doc-link:hover,\n",
              ".sk-estimator-doc-link:hover {\n",
              "  /* unfitted */\n",
              "  background-color: var(--sklearn-color-unfitted-level-3);\n",
              "  color: var(--sklearn-color-background);\n",
              "  text-decoration: none;\n",
              "}\n",
              "\n",
              "div.sk-estimator.fitted:hover .sk-estimator-doc-link.fitted:hover,\n",
              ".sk-estimator-doc-link.fitted:hover,\n",
              "div.sk-label-container:hover .sk-estimator-doc-link.fitted:hover,\n",
              ".sk-estimator-doc-link.fitted:hover {\n",
              "  /* fitted */\n",
              "  background-color: var(--sklearn-color-fitted-level-3);\n",
              "  color: var(--sklearn-color-background);\n",
              "  text-decoration: none;\n",
              "}\n",
              "\n",
              "/* Span, style for the box shown on hovering the info icon */\n",
              ".sk-estimator-doc-link span {\n",
              "  display: none;\n",
              "  z-index: 9999;\n",
              "  position: relative;\n",
              "  font-weight: normal;\n",
              "  right: .2ex;\n",
              "  padding: .5ex;\n",
              "  margin: .5ex;\n",
              "  width: min-content;\n",
              "  min-width: 20ex;\n",
              "  max-width: 50ex;\n",
              "  color: var(--sklearn-color-text);\n",
              "  box-shadow: 2pt 2pt 4pt #999;\n",
              "  /* unfitted */\n",
              "  background: var(--sklearn-color-unfitted-level-0);\n",
              "  border: .5pt solid var(--sklearn-color-unfitted-level-3);\n",
              "}\n",
              "\n",
              ".sk-estimator-doc-link.fitted span {\n",
              "  /* fitted */\n",
              "  background: var(--sklearn-color-fitted-level-0);\n",
              "  border: var(--sklearn-color-fitted-level-3);\n",
              "}\n",
              "\n",
              ".sk-estimator-doc-link:hover span {\n",
              "  display: block;\n",
              "}\n",
              "\n",
              "/* \"?\"-specific style due to the `<a>` HTML tag */\n",
              "\n",
              "#sk-container-id-1 a.estimator_doc_link {\n",
              "  float: right;\n",
              "  font-size: 1rem;\n",
              "  line-height: 1em;\n",
              "  font-family: monospace;\n",
              "  background-color: var(--sklearn-color-background);\n",
              "  border-radius: 1rem;\n",
              "  height: 1rem;\n",
              "  width: 1rem;\n",
              "  text-decoration: none;\n",
              "  /* unfitted */\n",
              "  color: var(--sklearn-color-unfitted-level-1);\n",
              "  border: var(--sklearn-color-unfitted-level-1) 1pt solid;\n",
              "}\n",
              "\n",
              "#sk-container-id-1 a.estimator_doc_link.fitted {\n",
              "  /* fitted */\n",
              "  border: var(--sklearn-color-fitted-level-1) 1pt solid;\n",
              "  color: var(--sklearn-color-fitted-level-1);\n",
              "}\n",
              "\n",
              "/* On hover */\n",
              "#sk-container-id-1 a.estimator_doc_link:hover {\n",
              "  /* unfitted */\n",
              "  background-color: var(--sklearn-color-unfitted-level-3);\n",
              "  color: var(--sklearn-color-background);\n",
              "  text-decoration: none;\n",
              "}\n",
              "\n",
              "#sk-container-id-1 a.estimator_doc_link.fitted:hover {\n",
              "  /* fitted */\n",
              "  background-color: var(--sklearn-color-fitted-level-3);\n",
              "}\n",
              "</style><div id=\"sk-container-id-1\" class=\"sk-top-container\"><div class=\"sk-text-repr-fallback\"><pre>RandomForestRegressor(random_state=42)</pre><b>In a Jupyter environment, please rerun this cell to show the HTML representation or trust the notebook. <br />On GitHub, the HTML representation is unable to render, please try loading this page with nbviewer.org.</b></div><div class=\"sk-container\" hidden><div class=\"sk-item\"><div class=\"sk-estimator fitted sk-toggleable\"><input class=\"sk-toggleable__control sk-hidden--visually\" id=\"sk-estimator-id-1\" type=\"checkbox\" checked><label for=\"sk-estimator-id-1\" class=\"sk-toggleable__label fitted sk-toggleable__label-arrow\"><div><div>RandomForestRegressor</div></div><div><a class=\"sk-estimator-doc-link fitted\" rel=\"noreferrer\" target=\"_blank\" href=\"https://scikit-learn.org/1.6/modules/generated/sklearn.ensemble.RandomForestRegressor.html\">?<span>Documentation for RandomForestRegressor</span></a><span class=\"sk-estimator-doc-link fitted\">i<span>Fitted</span></span></div></label><div class=\"sk-toggleable__content fitted\"><pre>RandomForestRegressor(random_state=42)</pre></div> </div></div></div></div>"
            ]
          },
          "metadata": {},
          "execution_count": 22
        }
      ]
    },
    {
      "cell_type": "code",
      "source": [
        "y_pred = h.predict(x_test)\n",
        "y_pred = pd.DataFrame(y_pred, columns=['Predicted IRA'])\n",
        "y_pred.to_csv('y_pred.csv', index=False)\n",
        "print(y_pred)\n"
      ],
      "metadata": {
        "colab": {
          "base_uri": "https://localhost:8080/"
        },
        "id": "YPdOS0pVuqZD",
        "outputId": "6e45dae0-8535-42ab-8fef-f58dc1306c38"
      },
      "execution_count": null,
      "outputs": [
        {
          "output_type": "stream",
          "name": "stdout",
          "text": [
            "     Predicted IRA\n",
            "0          7252.23\n",
            "1          9649.80\n",
            "2          4855.45\n",
            "3           901.77\n",
            "4          7170.07\n",
            "..             ...\n",
            "536       10450.16\n",
            "537        9118.85\n",
            "538       10663.10\n",
            "539       12782.43\n",
            "540       10464.44\n",
            "\n",
            "[541 rows x 1 columns]\n"
          ]
        }
      ]
    },
    {
      "cell_type": "code",
      "source": [
        "print(x_test)"
      ],
      "metadata": {
        "colab": {
          "base_uri": "https://localhost:8080/"
        },
        "id": "8xT9yK9wkSMj",
        "outputId": "16909bde-40aa-4f92-a7ea-32be3e57e089"
      },
      "execution_count": null,
      "outputs": [
        {
          "output_type": "stream",
          "name": "stdout",
          "text": [
            "      CDM.PM25  SJL.PM25  CDM.PM10  STA.PM10  VMT.PM10  CRB.PM10   TEM  TMAX  \\\n",
            "1137      13.9      16.1      31.1      75.1     217.8      43.9  22.6  25.5   \n",
            "673       13.7      31.9      47.6      98.2     144.2     117.2  18.0  21.0   \n",
            "2654      13.3      30.2      16.8      37.7      25.4      19.0  19.5  23.0   \n",
            "1999      29.2      22.7      37.8      28.5      65.0      57.2  16.4  18.9   \n",
            "950       11.8      27.6      42.2      51.1     122.3      55.5  16.6  19.1   \n",
            "...        ...       ...       ...       ...       ...       ...   ...   ...   \n",
            "874        9.3      18.4      28.0      32.6     157.3      43.3  19.1  20.1   \n",
            "2448      15.2      44.9      58.1     164.4      75.4      86.9  14.7  16.0   \n",
            "639       12.3      53.2      28.4      63.8      76.0      68.1  17.7  20.7   \n",
            "1393      26.1      47.6      37.1      69.6     217.4     111.4  17.9  21.0   \n",
            "1408      15.2      31.2      23.3      74.4     134.5      99.9  19.5  22.6   \n",
            "\n",
            "      TMIN  RH  ...  Max.HI_lag5  Max.HI_lag6  Max.HI_lag7  Tamplitude_lag1  \\\n",
            "1137  19.9  81  ...         26.9         26.2         27.1              5.4   \n",
            "673   16.5  81  ...         24.2         23.6         23.2              5.5   \n",
            "2654  17.6  82  ...         24.6         25.2         24.5              4.2   \n",
            "1999  15.2  86  ...         21.8         23.9         22.9              4.0   \n",
            "950   14.8  82  ...         22.7         22.2         20.6              4.0   \n",
            "...    ...  ..  ...          ...          ...          ...              ...   \n",
            "874   18.0  89  ...         23.6         23.1         22.2              4.0   \n",
            "2448  13.7  91  ...         22.9         20.3         21.0              1.4   \n",
            "639   16.3  82  ...         22.7         21.4         21.8              4.0   \n",
            "1393  16.1  82  ...         23.6         22.8         24.0              3.5   \n",
            "1408  17.9  75  ...         23.3         23.0         23.3              3.9   \n",
            "\n",
            "      Tamplitude_lag2  Tamplitude_lag3  Tamplitude_lag4  Tamplitude_lag5  \\\n",
            "1137              5.5              5.1              4.2              3.9   \n",
            "673               5.1              5.2              3.9              3.9   \n",
            "2654              5.9              7.3              7.3              6.1   \n",
            "1999              4.0              2.7              2.7              2.0   \n",
            "950               2.2              2.5              2.7              3.2   \n",
            "...               ...              ...              ...              ...   \n",
            "874               3.0              2.2              3.0              3.4   \n",
            "2448              2.6              3.2              2.5              4.6   \n",
            "639               2.4              3.0              3.8              3.7   \n",
            "1393              3.2              2.8              3.2              4.2   \n",
            "1408              4.8              4.3              5.5              4.1   \n",
            "\n",
            "      Tamplitude_lag6  Tamplitude_lag7  \n",
            "1137              4.0              4.6  \n",
            "673               3.9              3.7  \n",
            "2654              6.3              5.9  \n",
            "1999              4.3              2.1  \n",
            "950               2.7              2.0  \n",
            "...               ...              ...  \n",
            "874               3.5              2.2  \n",
            "2448              2.0              1.5  \n",
            "639               2.2              3.9  \n",
            "1393              3.8              4.3  \n",
            "1408              4.0              4.7  \n",
            "\n",
            "[541 rows x 168 columns]\n"
          ]
        }
      ]
    },
    {
      "cell_type": "code",
      "source": [
        "print(y_test)"
      ],
      "metadata": {
        "colab": {
          "base_uri": "https://localhost:8080/"
        },
        "id": "iA2IqpEekYUQ",
        "outputId": "c0f506fd-f013-407e-e877-8cec3eb63919"
      },
      "execution_count": null,
      "outputs": [
        {
          "output_type": "stream",
          "name": "stdout",
          "text": [
            "1137     7474.0\n",
            "673     10633.0\n",
            "2654     5331.0\n",
            "1999      611.0\n",
            "950      9222.0\n",
            "         ...   \n",
            "874     11549.0\n",
            "2448     2410.0\n",
            "639     12228.0\n",
            "1393    10397.0\n",
            "1408    10140.0\n",
            "Name: IRAmetro, Length: 541, dtype: float64\n"
          ]
        }
      ]
    },
    {
      "cell_type": "code",
      "source": [
        "r2_score(y_test,y_pred)"
      ],
      "metadata": {
        "colab": {
          "base_uri": "https://localhost:8080/"
        },
        "id": "mTZS4XAZvKDe",
        "outputId": "953ef415-3dc5-4586-b7c9-466bdf95dff8"
      },
      "execution_count": null,
      "outputs": [
        {
          "output_type": "execute_result",
          "data": {
            "text/plain": [
              "0.46650385290041196"
            ]
          },
          "metadata": {},
          "execution_count": 27
        }
      ]
    },
    {
      "cell_type": "code",
      "source": [
        "mean_squared_error(y_test,y_pred)"
      ],
      "metadata": {
        "colab": {
          "base_uri": "https://localhost:8080/"
        },
        "id": "ki5Uumt2vURh",
        "outputId": "2f82881b-7b4c-435e-e9fd-902d4f0cd8a4"
      },
      "execution_count": null,
      "outputs": [
        {
          "output_type": "execute_result",
          "data": {
            "text/plain": [
              "15440880.877993345"
            ]
          },
          "metadata": {},
          "execution_count": 28
        }
      ]
    },
    {
      "cell_type": "code",
      "source": [
        "mean_absolute_error(y_test,y_pred)"
      ],
      "metadata": {
        "colab": {
          "base_uri": "https://localhost:8080/"
        },
        "id": "o3NFTnXIvbDX",
        "outputId": "071459a9-73b9-4e5b-996c-4e47be2131d1"
      },
      "execution_count": null,
      "outputs": [
        {
          "output_type": "execute_result",
          "data": {
            "text/plain": [
              "2607.9177818853973"
            ]
          },
          "metadata": {},
          "execution_count": 29
        }
      ]
    },
    {
      "cell_type": "code",
      "source": [
        "root_mean_squared_error(y_test,y_pred)"
      ],
      "metadata": {
        "colab": {
          "base_uri": "https://localhost:8080/"
        },
        "id": "UiTKF9qdOjx5",
        "outputId": "793c8c52-ce3a-47fc-8a23-2f0164d9df5b"
      },
      "execution_count": null,
      "outputs": [
        {
          "output_type": "execute_result",
          "data": {
            "text/plain": [
              "3929.488628052427"
            ]
          },
          "metadata": {},
          "execution_count": 30
        }
      ]
    },
    {
      "cell_type": "code",
      "source": [
        "features = pd.DataFrame(h.feature_importances_, index = x_train.columns) # Use x_train.columns instead of X.columns\n",
        "features.columns = ['Importance']\n",
        "features = features.sort_values(by = 'Importance', ascending = False)\n",
        "print(features)"
      ],
      "metadata": {
        "colab": {
          "base_uri": "https://localhost:8080/"
        },
        "id": "0f9BISCUnS8_",
        "outputId": "1b6dbc9e-bf58-47ec-c7b6-f4ec73994cd1"
      },
      "execution_count": null,
      "outputs": [
        {
          "output_type": "stream",
          "name": "stdout",
          "text": [
            "               Importance\n",
            "STA.PM10_lag7    0.043290\n",
            "STA.PM10         0.041799\n",
            "STA.PM10_lag3    0.029736\n",
            "STA.PM10_lag5    0.027370\n",
            "HI_lag1          0.022391\n",
            "...                   ...\n",
            "RHMAX_lag3       0.001183\n",
            "RHMAX            0.000975\n",
            "RHMAX_lag5       0.000971\n",
            "RHMAX_lag2       0.000958\n",
            "RHMAX_lag1       0.000883\n",
            "\n",
            "[168 rows x 1 columns]\n"
          ]
        }
      ]
    },
    {
      "cell_type": "code",
      "source": [
        "# Initialize SHAP explainer\n",
        "explainer = shap.TreeExplainer(h)\n",
        "# Calculate SHAP values\n",
        "shap_values = explainer.shap_values(x_train)\n",
        "\n",
        "# Plot SHAP summary\n",
        "shap.summary_plot(shap_values, x_train, features.index)"
      ],
      "metadata": {
        "colab": {
          "base_uri": "https://localhost:8080/",
          "height": 957
        },
        "id": "PwVdEYvf1WY5",
        "outputId": "70424f6c-ac19-4688-8203-0c4130cc8202"
      },
      "execution_count": null,
      "outputs": [
        {
          "output_type": "display_data",
          "data": {
            "text/plain": [
              "<Figure size 800x950 with 2 Axes>"
            ],
            "image/png": "[encoded data removed]"
          },
          "metadata": {}
        }
      ]
    },
    {
      "cell_type": "code",
      "source": [
        "# Save the figure in TIFF format\n",
        "plt.savefig('shap_metropolitana.png', format='png')\n",
        "\n",
        "# Optionally, you can also display the plot\n",
        "plt.show()"
      ],
      "metadata": {
        "colab": {
          "base_uri": "https://localhost:8080/",
          "height": 34
        },
        "id": "ZdLqmbH64Zc2",
        "outputId": "0103cf46-eecc-4a78-bfbc-c066349ec05f"
      },
      "execution_count": null,
      "outputs": [
        {
          "output_type": "display_data",
          "data": {
            "text/plain": [
              "<Figure size 640x480 with 0 Axes>"
            ]
          },
          "metadata": {}
        }
      ]
    },
    {
      "cell_type": "code",
      "source": [
        "import matplotlib.pyplot as plt\n",
        "\n",
        "# Sort features by 'Importance' and select the top 10\n",
        "top_features = features.sort_values(by='Importance', ascending=False).head(10)\n",
        "\n",
        "# Create horizontal bar chart\n",
        "plt.figure(figsize=(10, 6))\n",
        "plt.barh(top_features.index, top_features['Importance'], color='skyblue')\n",
        "plt.xlabel('Importance')\n",
        "plt.title('Top 10 Feature Importance')\n",
        "plt.gca().invert_yaxis()  # Invert y-axis to show the highest importance at the top\n",
        "plt.show()"
      ],
      "metadata": {
        "colab": {
          "base_uri": "https://localhost:8080/",
          "height": 564
        },
        "id": "kLOpYpQG8DfQ",
        "outputId": "5aeb22f2-baff-410d-eb05-68ee6f067e4c"
      },
      "execution_count": null,
      "outputs": [
        {
          "output_type": "display_data",
          "data": {
            "text/plain": [
              "<Figure size 1000x600 with 1 Axes>"
            ],
            "image/png": "[encoded data removed]"
          },
          "metadata": {}
        }
      ]
    }
  ]
}